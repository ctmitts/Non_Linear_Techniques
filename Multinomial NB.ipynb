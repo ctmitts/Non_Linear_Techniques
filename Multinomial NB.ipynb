{
 "cells": [
  {
   "cell_type": "code",
   "execution_count": 1,
   "metadata": {
    "collapsed": true
   },
   "outputs": [],
   "source": [
    "from DataTools import *\n",
    "#from DataTools as dt\n",
    "\n",
    "%matplotlib inline"
   ]
  },
  {
   "cell_type": "code",
   "execution_count": null,
   "metadata": {
    "collapsed": true
   },
   "outputs": [],
   "source": []
  },
  {
   "cell_type": "code",
   "execution_count": 2,
   "metadata": {
    "collapsed": true
   },
   "outputs": [],
   "source": [
    "## USE THIS\n",
    "x2, y2 =make_classification(n_samples = 2000, n_features=20, n_redundant=5, n_informative=5,n_repeated=0,\n",
    "                             n_clusters_per_class=2, n_classes=2, random_state=42)\n",
    "\n",
    "x2_train, x2_test, y2_train, y2_test = train_test_split( x2, y2, random_state=42)"
   ]
  },
  {
   "cell_type": "code",
   "execution_count": 4,
   "metadata": {},
   "outputs": [
    {
     "data": {
      "text/plain": [
       "GridSearchCV(cv=None, error_score='raise',\n",
       "       estimator=Pipeline(steps=[('rbf', Nystroem(coef0=1, degree=3, gamma=None, kernel='rbf', kernel_params=None,\n",
       "     n_components=100, random_state=42)), ('mM', MinMaxScaler(copy=True, feature_range=(0.5, 1.5))), ('ml_nb', MultinomialNB(alpha=1.0, class_prior=None, fit_prior=True))]),\n",
       "       fit_params={}, iid=True, n_jobs=-1,\n",
       "       param_grid={'rbf__gamma': array([  1.00000e-02,   1.00000e-01,   1.00000e+00,   1.00000e+01,\n",
       "         1.00000e+02]), 'rbf__n_components': [25, 50, 100, 250, 500], 'ml_nb__alpha': array([  1.00000e-02,   1.00000e-01,   1.00000e+00,   1.00000e+01,\n",
       "         1.00000e+02])},\n",
       "       pre_dispatch='2*n_jobs', refit=True, return_train_score=True,\n",
       "       scoring=None, verbose=0)"
      ]
     },
     "execution_count": 4,
     "metadata": {},
     "output_type": "execute_result"
    }
   ],
   "source": [
    "pipe2 = Pipeline( [\n",
    "    ('rbf', Nystroem(kernel= 'rbf', random_state=42)),  ## sigmoid  'poly'\n",
    "    #('fourier',RBFSampler()), \n",
    "     #PolynomialFeatures(degree=4,include_bias=False)),\n",
    "    ('mM',  MinMaxScaler(feature_range=(.5,1.5)) ),  #StandardScaler()\n",
    "    ('ml_nb', MultinomialNB())\n",
    "    #('adab_c', AdaBoostClassifier( base_estimator = LogisticRegression( n_jobs = -1)))\n",
    "    #('logit', LogisticRegression(n_jobs=-1))\n",
    "])\n",
    "    \n",
    "pipe2_params = {\n",
    "    'rbf__gamma':np.logspace( -2,2,5),\n",
    "    #'rbf__degree':[1,2,3],\n",
    "    'rbf__n_components':[25,50, 100, 250, 500],\n",
    "    'ml_nb__alpha':np.logspace( -2,2,5)\n",
    "    #'fourier__gamma':np.logspace( -2,2,5),\n",
    "    #'fourier__n_components':[25,50, 100, 250, 500],\n",
    "    #'adab_c__base_estimator':[LogisticRegression( C=c) for c in np.logspace(-2,2,5) ],\n",
    "    #'adab_c__learning_rate':[.1, .5, .9]\n",
    "    #'logit__C':np.logspace(-3,3,11),\n",
    "    #'logit_penalty':['l1', 'l2']\n",
    "}\n",
    "\n",
    "pipe2_gs = GridSearchCV( pipe2, pipe2_params, n_jobs =-1)\n",
    "pipe2_gs.fit( x2_train, y2_train)\n",
    "    "
   ]
  },
  {
   "cell_type": "code",
   "execution_count": 5,
   "metadata": {},
   "outputs": [
    {
     "data": {
      "text/plain": [
       "(0.83933333333333338, 0.80600000000000005)"
      ]
     },
     "execution_count": 5,
     "metadata": {},
     "output_type": "execute_result"
    }
   ],
   "source": [
    "pipe2_gs.score( x2_train, y2_train), pipe2_gs.score( x2_test, y2_test)"
   ]
  },
  {
   "cell_type": "code",
   "execution_count": 6,
   "metadata": {},
   "outputs": [
    {
     "data": {
      "text/plain": [
       "GridSearchCV(cv=None, error_score='raise',\n",
       "       estimator=Pipeline(steps=[('rbf', Nystroem(coef0=1, degree=3, gamma=None, kernel='poly', kernel_params=None,\n",
       "     n_components=100, random_state=42)), ('mM', MinMaxScaler(copy=True, feature_range=(0.5, 1.5))), ('ml_nb', MultinomialNB(alpha=1.0, class_prior=None, fit_prior=True))]),\n",
       "       fit_params={}, iid=True, n_jobs=-1,\n",
       "       param_grid={'rbf__gamma': array([  1.00000e-02,   1.00000e-01,   1.00000e+00,   1.00000e+01,\n",
       "         1.00000e+02]), 'rbf__degree': [1, 2, 3], 'rbf__n_components': [25, 50, 100, 250, 500], 'ml_nb__alpha': array([  1.00000e-02,   1.00000e-01,   1.00000e+00,   1.00000e+01,\n",
       "         1.00000e+02])},\n",
       "       pre_dispatch='2*n_jobs', refit=True, return_train_score=True,\n",
       "       scoring=None, verbose=0)"
      ]
     },
     "execution_count": 6,
     "metadata": {},
     "output_type": "execute_result"
    }
   ],
   "source": [
    "pipe3 = Pipeline( [\n",
    "    ('rbf', Nystroem(kernel= 'poly', random_state=42)),  ## sigmoid  'poly'\n",
    "    #('fourier',RBFSampler()), \n",
    "     #PolynomialFeatures(degree=4,include_bias=False)),\n",
    "    ('mM',  MinMaxScaler(feature_range=(.5,1.5)) ),  #StandardScaler()\n",
    "    ('ml_nb', MultinomialNB())\n",
    "    #('adab_c', AdaBoostClassifier( base_estimator = LogisticRegression( n_jobs = -1)))\n",
    "    #('logit', LogisticRegression(n_jobs=-1))\n",
    "])\n",
    "    \n",
    "pipe3_params = {\n",
    "    'rbf__gamma':np.logspace( -2,2,5),\n",
    "    'rbf__degree':[1,2,3],\n",
    "    'rbf__n_components':[25,50, 100, 250, 500],\n",
    "    'ml_nb__alpha':np.logspace( -2,2,5)\n",
    "    #'fourier__gamma':np.logspace( -2,2,5),\n",
    "    #'fourier__n_components':[25,50, 100, 250, 500],\n",
    "    #'adab_c__base_estimator':[LogisticRegression( C=c) for c in np.logspace(-2,2,5) ],\n",
    "    #'adab_c__learning_rate':[.1, .5, .9]\n",
    "    #'logit__C':np.logspace(-3,3,11),\n",
    "    #'logit_penalty':['l1', 'l2']\n",
    "}\n",
    "\n",
    "pipe3_gs = GridSearchCV( pipe3, pipe3_params, n_jobs =-1)\n",
    "pipe3_gs.fit( x2_train, y2_train)\n",
    "    "
   ]
  },
  {
   "cell_type": "code",
   "execution_count": 7,
   "metadata": {},
   "outputs": [
    {
     "data": {
      "text/plain": [
       "(0.83933333333333338, 0.80600000000000005)"
      ]
     },
     "execution_count": 7,
     "metadata": {},
     "output_type": "execute_result"
    }
   ],
   "source": [
    "pipe2_gs.score( x2_train, y2_train), pipe2_gs.score( x2_test, y2_test)"
   ]
  },
  {
   "cell_type": "code",
   "execution_count": null,
   "metadata": {
    "collapsed": true
   },
   "outputs": [],
   "source": []
  }
 ],
 "metadata": {
  "kernelspec": {
   "display_name": "Python 3",
   "language": "python",
   "name": "python3"
  },
  "language_info": {
   "codemirror_mode": {
    "name": "ipython",
    "version": 3
   },
   "file_extension": ".py",
   "mimetype": "text/x-python",
   "name": "python",
   "nbconvert_exporter": "python",
   "pygments_lexer": "ipython3",
   "version": "3.6.2"
  }
 },
 "nbformat": 4,
 "nbformat_minor": 2
}
