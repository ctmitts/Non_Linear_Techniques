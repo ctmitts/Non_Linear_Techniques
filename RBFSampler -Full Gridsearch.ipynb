{
 "cells": [
  {
   "cell_type": "code",
   "execution_count": 1,
   "metadata": {
    "collapsed": true
   },
   "outputs": [],
   "source": [
    "from DataTools import *\n",
    "#from DataTools as dt\n",
    "\n",
    "%matplotlib inline"
   ]
  },
  {
   "cell_type": "code",
   "execution_count": 2,
   "metadata": {
    "collapsed": true
   },
   "outputs": [],
   "source": [
    "from itertools import product\n",
    "from sklearn.tree import DecisionTreeClassifier\n",
    "from sklearn.neighbors import KNeighborsClassifier\n",
    "from sklearn.model_selection import GridSearchCV "
   ]
  },
  {
   "cell_type": "code",
   "execution_count": 3,
   "metadata": {
    "collapsed": true
   },
   "outputs": [],
   "source": [
    "## USE THIS\n",
    "\n",
    "x2, y2 =make_classification(n_samples = 2000, n_features=20, n_redundant=5, n_informative=5, n_repeated=0,\n",
    "                             n_clusters_per_class=2, n_classes=2, random_state=42)\n",
    "\n",
    "x2_train, x2_test, y2_train, y2_test = train_test_split( x2, y2, random_state=42)"
   ]
  },
  {
   "cell_type": "code",
   "execution_count": 5,
   "metadata": {},
   "outputs": [
    {
     "name": "stdout",
     "output_type": "stream",
     "text": [
      "(0.92133333333333334, 0.90200000000000002)\n",
      "(0.91933333333333334, 0.89800000000000002)\n",
      "(0.89733333333333332, 0.80000000000000004)\n",
      "(0.91200000000000003, 0.86799999999999999)\n"
     ]
    }
   ],
   "source": [
    "pipe_logit = Pipeline( [\n",
    "    ('fourier',RBFSampler(n_components=500, random_state =42 )), \n",
    "    #('rbf', Nystroem(kernel= 'rbf', n_components = 500, random_state=42)),  ## sigmoid\n",
    "    #('poly', PolynomialFeatures(include_bias=False)),\n",
    "    ('scl', StandardScaler()),\n",
    "    ('clf', LogisticRegression(n_jobs=-1, random_state=42))\n",
    "])\n",
    "\n",
    "pipe_lsvc = Pipeline([\n",
    "    ('fourier',RBFSampler(n_components=500, random_state =42 )),\n",
    "    #('rbf', Nystroem(kernel= 'rbf', n_components = 500, random_state=42)),  ## sigmoid\n",
    "    #('poly', PolynomialFeatures(degree=4,include_bias=False)),\n",
    "    ('scl', StandardScaler()),\n",
    "    ('clf', LinearSVC(random_state=42))\n",
    "])\n",
    "    \n",
    "pipe_lparams = {\n",
    "    #'rbf__degree':[2,3,4],\n",
    "    'fourier__gamma':np.logspace(-3,3,7),  # [2,3,4],\n",
    "    #'clf__penalty':['l1', 'l2'],\n",
    "    'clf__C':np.logspace(-3,3,7),\n",
    "}\n",
    "\n",
    "pipe_dtc = Pipeline([\n",
    "    ('fourier',RBFSampler(n_components=500, random_state =42 )),\n",
    "    #('rbf', Nystroem(kernel= 'rbf', n_components = 500, random_state=42)),  ## sigmoid\n",
    "    #('poly', PolynomialFeatures()),\n",
    "    ('scl', StandardScaler()),\n",
    "    ('clf', DecisionTreeClassifier(random_state=42)),\n",
    "    \n",
    "])\n",
    "pipe_dtparams = {\n",
    "    #'rbf__degree':[1,2,3,4],\n",
    "    'fourier__gamma':np.logspace(-3,3,7),  # [2,3,4],\n",
    "    'clf__max_depth':[3,5,7,9]\n",
    "}\n",
    "\n",
    "pipe_knn = Pipeline([\n",
    "    ('fourier',RBFSampler(n_components=500, random_state =42 )),\n",
    "    #('rbf', Nystroem(kernel= 'rbf', n_components = 500, random_state=42)),  ## sigmoid\n",
    "    #('poly', PolynomialFeatures(degree=4,include_bias=False)),\n",
    "    ('scl', StandardScaler()),\n",
    "    ('clf', KNeighborsClassifier(n_jobs = -1)),\n",
    "    \n",
    "])\n",
    "pipe_knnparams = {\n",
    "    #'rbf__degree':[1,2,3,4],\n",
    "    'fourier__gamma':np.logspace(-3,3,7),  # [2,3,4],\n",
    "    'clf__n_neighbors':[3,5,7,9]\n",
    "}\n",
    "\n",
    "\n",
    "clf1 = GridSearchCV( pipe_logit,pipe_lparams)\n",
    "clf2 = GridSearchCV( pipe_lsvc,pipe_lparams)\n",
    "clf3 = GridSearchCV( pipe_dtc, pipe_dtparams)\n",
    "clf4 = GridSearchCV( pipe_knn, pipe_knnparams)\n",
    "#clf3 = DecisionTreeClassifier(max_depth=4)\n",
    "#clf4 = KNeighborsClassifier(n_neighbors=7)\n",
    "\n",
    "clf1.fit(x2_train, y2_train)\n",
    "clf2.fit(x2_train, y2_train)\n",
    "clf3.fit(x2_train, y2_train)\n",
    "clf4.fit(x2_train, y2_train)\n",
    "                    \n",
    "logit_scores = ( clf1.score(x2_train, y2_train), clf1.score(x2_test, y2_test))\n",
    "lsvc_scores =  ( clf2.score(x2_train, y2_train), clf2.score(x2_test, y2_test))\n",
    "dtc_scores = ( clf3.score(x2_train, y2_train),   clf3.score(x2_test, y2_test))\n",
    "knc_scores = ( clf4.score(x2_train, y2_train),   clf4.score(x2_test, y2_test))\n",
    "\n",
    "base_scores = {\n",
    "    'logit': logit_scores,\n",
    "    'linear_svc': lsvc_scores,\n",
    "    'decision_tree': dtc_scores,\n",
    "    'kNeighbors':knc_scores\n",
    "}\n",
    "\n",
    "\n",
    "print(logit_scores)\n",
    "print(lsvc_scores)\n",
    "print(dtc_scores)\n",
    "print(knc_scores)\n",
    "#pipe2_gs = GridSearchCV( pipe2, pipe2_params, n_jobs =-1)\n",
    "#pipe2_gs.fit( x2_train, y2_train)\n",
    "    "
   ]
  },
  {
   "cell_type": "code",
   "execution_count": null,
   "metadata": {
    "collapsed": true
   },
   "outputs": [],
   "source": [
    "fourier_logit_train, fourier_logit_test = (0.92133333333333334, 0.90200000000000002)\n",
    "fourier_lsvc_train, fourier_lsvc_test = (0.91933333333333334, 0.89800000000000002)\n",
    "fourier_dtc_train, fourier_dtc_test = (0.89733333333333332, 0.80000000000000004)\n",
    "fourier_knnc_train, fourier_knnc_test = (0.91200000000000003, 0.86799999999999999)\n",
    "\n"
   ]
  },
  {
   "cell_type": "code",
   "execution_count": 7,
   "metadata": {},
   "outputs": [
    {
     "name": "stdout",
     "output_type": "stream",
     "text": [
      "{'clf__C': 0.01, 'fourier__gamma': 0.01}\n",
      "{'clf__C': 0.001, 'fourier__gamma': 0.01}\n",
      "{'clf__max_depth': 5, 'fourier__gamma': 0.001}\n",
      "{'clf__n_neighbors': 9, 'fourier__gamma': 0.01}\n"
     ]
    }
   ],
   "source": [
    "clf1_params = clf1.best_params_\n",
    "clf2_params = clf2.best_params_\n",
    "clf3_params = clf3.best_params_\n",
    "clf4_params = clf4.best_params_\n",
    "\n",
    "\n",
    "print( clf1.best_params_)\n",
    "print( clf2.best_params_)\n",
    "print( clf3.best_params_)\n",
    "print( clf4.best_params_)"
   ]
  },
  {
   "cell_type": "code",
   "execution_count": null,
   "metadata": {
    "collapsed": true
   },
   "outputs": [],
   "source": []
  },
  {
   "cell_type": "code",
   "execution_count": 8,
   "metadata": {},
   "outputs": [
    {
     "name": "stdout",
     "output_type": "stream",
     "text": [
      "(0.91600000000000004, 0.89600000000000002)\n",
      "(0.91666666666666663, 0.88400000000000001)\n",
      "(0.92466666666666664, 0.83799999999999997)\n",
      "(0.92000000000000004, 0.88400000000000001)\n"
     ]
    }
   ],
   "source": [
    "## PCA\n",
    "\n",
    "pipe_logit = Pipeline( [\n",
    "    ('fourier',RBFSampler(n_components=500, random_state =42 )), \n",
    "    #('rbf', Nystroem(kernel= 'rbf', n_components = 500, random_state=42)),  ## sigmoid\n",
    "    #('poly', PolynomialFeatures(include_bias=False)),\n",
    "    ('scl', StandardScaler()),\n",
    "    ('pca', PCA(random_state = 42)),\n",
    "    ('clf', LogisticRegression(n_jobs=-1, random_state=42))\n",
    "])\n",
    "\n",
    "pipe_lsvc = Pipeline([\n",
    "    ('fourier',RBFSampler(n_components=500, random_state =42 )),\n",
    "    #('rbf', Nystroem(kernel= 'rbf', n_components = 500, random_state=42)),  ## sigmoid\n",
    "    #('poly', PolynomialFeatures(degree=4,include_bias=False)),\n",
    "    ('scl', StandardScaler()),\n",
    "    ('pca', PCA(random_state = 42)),\n",
    "    ('clf', LinearSVC(random_state=42))\n",
    "])\n",
    "    \n",
    "pipe_lparams = {\n",
    "    #'rbf__degree':[2,3,4],\n",
    "    'fourier__gamma':np.logspace(-3,3,7),  # [2,3,4],\n",
    "    'pca__n_components': [20, 50, 100, 200],\n",
    "    #'clf__penalty':['l1', 'l2'],\n",
    "    'clf__C':np.logspace(-3,3,7),\n",
    "}\n",
    "\n",
    "pipe_dtc = Pipeline([\n",
    "    ('fourier',RBFSampler(n_components=500, random_state =42 )),\n",
    "    #('rbf', Nystroem(kernel= 'rbf', n_components = 500, random_state=42)),  ## sigmoid\n",
    "    #('poly', PolynomialFeatures()),\n",
    "    ('scl', StandardScaler()),\n",
    "    ('pca', PCA(random_state = 42)),\n",
    "    ('clf', DecisionTreeClassifier(random_state=42)),\n",
    "    \n",
    "])\n",
    "pipe_dtparams = {\n",
    "    #'rbf__degree':[1,2,3,4],\n",
    "    'fourier__gamma':np.logspace(-3,3,7),  # [2,3,4],\n",
    "    'pca__n_components': [20, 50, 100, 200],\n",
    "    'clf__max_depth':[3,5,7,9]\n",
    "}\n",
    "\n",
    "pipe_knn = Pipeline([\n",
    "    ('fourier',RBFSampler(n_components=500, random_state =42 )),\n",
    "    #('rbf', Nystroem(kernel= 'rbf', n_components = 500, random_state=42)),  ## sigmoid\n",
    "    #('poly', PolynomialFeatures(degree=4,include_bias=False)),\n",
    "    ('scl', StandardScaler()),\n",
    "    ('pca', PCA(random_state = 42)),\n",
    "    ('clf', KNeighborsClassifier(n_jobs = -1)),\n",
    "    \n",
    "])\n",
    "pipe_knnparams = {\n",
    "    #'rbf__degree':[1,2,3,4],\n",
    "    'fourier__gamma':np.logspace(-3,3,7),  # [2,3,4],\n",
    "    'pca__n_components': [20, 50, 100, 200],\n",
    "    'clf__n_neighbors':[3,5,7,9]\n",
    "}\n",
    "\n",
    "\n",
    "clf1 = GridSearchCV( pipe_logit,pipe_lparams)\n",
    "clf2 = GridSearchCV( pipe_lsvc,pipe_lparams)\n",
    "clf3 = GridSearchCV( pipe_dtc, pipe_dtparams)\n",
    "clf4 = GridSearchCV( pipe_knn, pipe_knnparams)\n",
    "#clf3 = DecisionTreeClassifier(max_depth=4)\n",
    "#clf4 = KNeighborsClassifier(n_neighbors=7)\n",
    "\n",
    "clf1.fit(x2_train, y2_train)\n",
    "clf2.fit(x2_train, y2_train)\n",
    "clf3.fit(x2_train, y2_train)\n",
    "clf4.fit(x2_train, y2_train)\n",
    "                    \n",
    "logit_scores = ( clf1.score(x2_train, y2_train), clf1.score(x2_test, y2_test))\n",
    "lsvc_scores =  ( clf2.score(x2_train, y2_train), clf2.score(x2_test, y2_test))\n",
    "dtc_scores = ( clf3.score(x2_train, y2_train),   clf3.score(x2_test, y2_test))\n",
    "knc_scores = ( clf4.score(x2_train, y2_train),   clf4.score(x2_test, y2_test))\n",
    "\n",
    "base_scores = {\n",
    "    'logit': logit_scores,\n",
    "    'linear_svc': lsvc_scores,\n",
    "    'decision_tree': dtc_scores,\n",
    "    'kNeighbors':knc_scores\n",
    "}\n",
    "\n",
    "\n",
    "print(logit_scores)\n",
    "print(lsvc_scores)\n",
    "print(dtc_scores)\n",
    "print(knc_scores)\n",
    "#pipe2_gs = GridSearchCV( pipe2, pipe2_params, n_jobs =-1)\n",
    "#pipe2_gs.fit( x2_train, y2_train)\n",
    "    "
   ]
  },
  {
   "cell_type": "code",
   "execution_count": 9,
   "metadata": {},
   "outputs": [
    {
     "name": "stdout",
     "output_type": "stream",
     "text": [
      "{'clf__C': 0.01, 'fourier__gamma': 0.01, 'pca__n_components': 100}\n",
      "{'clf__C': 0.01, 'fourier__gamma': 0.01, 'pca__n_components': 50}\n",
      "{'clf__max_depth': 7, 'fourier__gamma': 0.01, 'pca__n_components': 20}\n",
      "{'clf__n_neighbors': 7, 'fourier__gamma': 0.01, 'pca__n_components': 50}\n"
     ]
    }
   ],
   "source": [
    "print( clf1.best_params_)\n",
    "print( clf2.best_params_)\n",
    "print( clf3.best_params_)\n",
    "print( clf4.best_params_)"
   ]
  },
  {
   "cell_type": "code",
   "execution_count": null,
   "metadata": {
    "collapsed": true
   },
   "outputs": [],
   "source": []
  }
 ],
 "metadata": {
  "kernelspec": {
   "display_name": "Python 3",
   "language": "python",
   "name": "python3"
  },
  "language_info": {
   "codemirror_mode": {
    "name": "ipython",
    "version": 3
   },
   "file_extension": ".py",
   "mimetype": "text/x-python",
   "name": "python",
   "nbconvert_exporter": "python",
   "pygments_lexer": "ipython3",
   "version": "3.6.2"
  }
 },
 "nbformat": 4,
 "nbformat_minor": 2
}
