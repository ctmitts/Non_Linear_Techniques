{
 "cells": [
  {
   "cell_type": "code",
   "execution_count": 1,
   "metadata": {
    "collapsed": true
   },
   "outputs": [],
   "source": [
    "from DataTools import *\n",
    "#from DataTools as dt\n",
    "\n",
    "%matplotlib inline"
   ]
  },
  {
   "cell_type": "code",
   "execution_count": null,
   "metadata": {
    "collapsed": true
   },
   "outputs": [],
   "source": []
  },
  {
   "cell_type": "code",
   "execution_count": null,
   "metadata": {
    "collapsed": true
   },
   "outputs": [],
   "source": [
    "## USE THIS\n",
    "x2, y2 =make_classification(n_samples = 2000, n_features=20, n_redundant=5, n_informative=5, n_repeated=0,\n",
    "                             n_clusters_per_class=2, n_classes=2, random_state=42)\n",
    "\n",
    "## 6 informative\n",
    "x2_train, x2_test, y2_train, y2_test = train_test_split( x2, y2, random_state=42)"
   ]
  },
  {
   "cell_type": "markdown",
   "metadata": {},
   "source": [
    "## Baseline"
   ]
  },
  {
   "cell_type": "code",
   "execution_count": 12,
   "metadata": {
    "collapsed": true
   },
   "outputs": [],
   "source": [
    "## USE THIS\n",
    "\n",
    "x2, y2 =make_classification(n_samples = 2000, n_features=20, n_redundant=5, n_informative=5, n_repeated=0,\n",
    "                             n_clusters_per_class=2, n_classes=2, random_state=42)\n",
    "\n",
    "x2_train, x2_test, y2_train, y2_test = train_test_split( x2, y2, random_state=42)"
   ]
  },
  {
   "cell_type": "code",
   "execution_count": 13,
   "metadata": {},
   "outputs": [
    {
     "name": "stdout",
     "output_type": "stream",
     "text": [
      "(0.79066666666666663, 0.77600000000000002)\n",
      "(0.79400000000000004, 0.77600000000000002)\n",
      "(0.8746666666666667, 0.83799999999999997)\n",
      "(0.91933333333333334, 0.86599999999999999)\n"
     ]
    }
   ],
   "source": [
    "clf1 = LogisticRegression()\n",
    "clf2 = LinearSVC()\n",
    "clf3 = DecisionTreeClassifier(max_depth=4)\n",
    "clf4 = KNeighborsClassifier(n_neighbors=7)\n",
    "\n",
    "\n",
    "clf1.fit(x2_train, y2_train)\n",
    "clf2.fit(x2_train, y2_train)\n",
    "clf3.fit(x2_train, y2_train)\n",
    "clf4.fit(x2_train, y2_train)\n",
    "\n",
    "\n",
    "logit_scores = ( clf1.score(x2_train, y2_train), clf1.score(x2_test, y2_test))\n",
    "lsvc_scores =  ( clf2.score(x2_train, y2_train), clf2.score(x2_test, y2_test))\n",
    "dtc_scores = ( clf3.score(x2_train, y2_train),   clf3.score(x2_test, y2_test))\n",
    "knc_scores = ( clf4.score(x2_train, y2_train),   clf4.score(x2_test, y2_test))\n",
    "\n",
    "base_scores = {\n",
    "    'logit': logit_scores,\n",
    "    'linear_svc': lsvc_scores,\n",
    "    'decision_tree': dtc_scores,\n",
    "    'kNeighbors':knc_scores\n",
    "}\n",
    "\n",
    "print(logit_scores)\n",
    "print(lsvc_scores)\n",
    "print(dtc_scores)\n",
    "print(knc_scores)"
   ]
  },
  {
   "cell_type": "code",
   "execution_count": null,
   "metadata": {
    "collapsed": true
   },
   "outputs": [],
   "source": [
    "base_logit_train, base_logit_test = (0.79066666666666663, 0.77600000000000002)\n",
    "base_lsvc_train, base_lsvc_test = (0.79400000000000004, 0.77600000000000002)\n",
    "base_dtc_train, base_dtc_test =(0.8746666666666667, 0.83799999999999997)\n",
    "base_knnc_train, base_knnc_test =(0.91933333333333334, 0.86599999999999999)"
   ]
  },
  {
   "cell_type": "code",
   "execution_count": null,
   "metadata": {
    "collapsed": true
   },
   "outputs": [],
   "source": [
    "baseline_scores = base_scores\n",
    "baseline_scores"
   ]
  },
  {
   "cell_type": "code",
   "execution_count": null,
   "metadata": {
    "collapsed": true
   },
   "outputs": [],
   "source": [
    "## USE THIS\n",
    "xb, yb =make_classification(n_samples = 500, n_features=2, n_redundant=0, n_informative=1, n_repeated=1,\n",
    "                             n_clusters_per_class=1, n_classes=2, random_state=42, class_sep=1, scale = 100)\n",
    "\n",
    "clf1 = LogisticRegression()\n",
    "clf2 = LinearSVC()\n",
    "clf3 = DecisionTreeClassifier(max_depth=4)\n",
    "clf4 = KNeighborsClassifier(n_neighbors=7)\n",
    "\n",
    "\n",
    "clf1.fit(xb, yb)\n",
    "clf2.fit(xb, yb)\n",
    "clf3.fit(xb, yb)\n",
    "clf4.fit(xb, yb"
   ]
  },
  {
   "cell_type": "markdown",
   "metadata": {},
   "source": [
    "## Polynomial Features"
   ]
  },
  {
   "cell_type": "code",
   "execution_count": null,
   "metadata": {},
   "outputs": [],
   "source": [
    "pipe_logit = Pipeline( [\n",
    "    ('poly', PolynomialFeatures(include_bias=False)),\n",
    "    ('scl', StandardScaler()),\n",
    "    ('clf', LogisticRegression(n_jobs=-1, random_state=42))\n",
    "])\n",
    "\n",
    "pipe_lsvc = Pipeline([\n",
    "    ('poly', PolynomialFeatures(degree=4,include_bias=False)),\n",
    "    ('scl', StandardScaler()),\n",
    "    ('clf', LinearSVC(random_state=42))\n",
    "])\n",
    "    \n",
    "pipe_lparams = {\n",
    "    'poly__degree':[2,3,4],\n",
    "    #'clf__penalty':['l1', 'l2'],\n",
    "    'clf__C':np.logspace(-3,3,7),\n",
    "}\n",
    "\n",
    "pipe_dtc = Pipeline([\n",
    "    ('poly', PolynomialFeatures()),\n",
    "    ('scl', StandardScaler()),\n",
    "    ('clf', DecisionTreeClassifier(random_state=42)),\n",
    "    \n",
    "])\n",
    "pipe_dtparams = {\n",
    "    'poly__degree':[1,2,3,4],\n",
    "    'clf__max_depth':[3,5,7,9]\n",
    "}\n",
    "\n",
    "pipe_knn = Pipeline([\n",
    "    ('poly', PolynomialFeatures(degree=4,include_bias=False)),\n",
    "    ('scl', StandardScaler()),\n",
    "    ('clf', KNeighborsClassifier(n_jobs = -1)),\n",
    "    \n",
    "])\n",
    "pipe_dtparams = {\n",
    "    'poly__degree':[1,2,3,4],\n",
    "    'clf__n_neighbors':[3,5,7,9]\n",
    "}\n",
    "\n",
    "\n",
    "\n",
    "clf1 = GridSearchCV( pipe_logit,pipe_lparams)\n",
    "clf2 = GridSearchCV( pipe_lsvc,pipe_lparams)\n",
    "clf3 = DecisionTreeClassifier(max_depth=4)\n",
    "clf4 = KNeighborsClassifier(n_neighbors=7)\n",
    "\n",
    "clf1.fit(x2_train, y2_train)\n",
    "clf2.fit(x2_train, y2_train)\n",
    "clf3.fit(x2_train, y2_train)\n",
    "clf4.fit(x2_train, y2_train)\n",
    "                    \n",
    "logit_scores = ( clf1.score(x2_train, y2_train), clf1.score(x2_test, y2_test))\n",
    "lsvc_scores =  ( clf2.score(x2_train, y2_train), clf2.score(x2_test, y2_test))\n",
    "dtc_scores = ( clf3.score(x2_train, y2_train),   clf3.score(x2_test, y2_test))\n",
    "knc_scores = ( clf4.score(x2_train, y2_train),   clf4.score(x2_test, y2_test))\n",
    "\n",
    "base_scores = {\n",
    "    'logit': logit_scores,\n",
    "    'linear_svc': lsvc_scores,\n",
    "    'decision_tree': dtc_scores,\n",
    "    'kNeighbors':knc_scores\n",
    "}\n",
    "\n",
    "\n",
    "print(logit_scores)\n",
    "print(lsvc_scores)\n",
    "print(dtc_scores)\n",
    "print(knc_scores)\n",
    "#pipe2_gs = GridSearchCV( pipe2, pipe2_params, n_jobs =-1)\n",
    "#pipe2_gs.fit( x2_train, y2_train)\n",
    "    "
   ]
  },
  {
   "cell_type": "code",
   "execution_count": 25,
   "metadata": {},
   "outputs": [
    {
     "name": "stdout",
     "output_type": "stream",
     "text": [
      "(0.92266666666666663, 0.87)\n",
      "(0.92333333333333334, 0.86599999999999999)\n",
      "(0.8746666666666667, 0.83799999999999997)\n",
      "(0.91933333333333334, 0.86599999999999999)\n"
     ]
    }
   ],
   "source": [
    "print(logit_scores)\n",
    "print(lsvc_scores)\n",
    "print(dtc_scores)\n",
    "print(knc_scores)"
   ]
  },
  {
   "cell_type": "code",
   "execution_count": 26,
   "metadata": {},
   "outputs": [
    {
     "name": "stdout",
     "output_type": "stream",
     "text": [
      "{'clf__C': 0.01, 'poly__degree': 2}\n",
      "{'clf__C': 0.001, 'poly__degree': 2}\n"
     ]
    },
    {
     "ename": "AttributeError",
     "evalue": "'DecisionTreeClassifier' object has no attribute 'best_params_'",
     "output_type": "error",
     "traceback": [
      "\u001b[0;31m---------------------------------------------------------------------------\u001b[0m",
      "\u001b[0;31mAttributeError\u001b[0m                            Traceback (most recent call last)",
      "\u001b[0;32m<ipython-input-26-859200026ff3>\u001b[0m in \u001b[0;36m<module>\u001b[0;34m()\u001b[0m\n\u001b[1;32m      1\u001b[0m \u001b[0mprint\u001b[0m\u001b[0;34m(\u001b[0m \u001b[0mclf1\u001b[0m\u001b[0;34m.\u001b[0m\u001b[0mbest_params_\u001b[0m\u001b[0;34m)\u001b[0m\u001b[0;34m\u001b[0m\u001b[0m\n\u001b[1;32m      2\u001b[0m \u001b[0mprint\u001b[0m\u001b[0;34m(\u001b[0m \u001b[0mclf2\u001b[0m\u001b[0;34m.\u001b[0m\u001b[0mbest_params_\u001b[0m\u001b[0;34m)\u001b[0m\u001b[0;34m\u001b[0m\u001b[0m\n\u001b[0;32m----> 3\u001b[0;31m \u001b[0mprint\u001b[0m\u001b[0;34m(\u001b[0m \u001b[0mclf3\u001b[0m\u001b[0;34m.\u001b[0m\u001b[0mbest_params_\u001b[0m\u001b[0;34m)\u001b[0m\u001b[0;34m\u001b[0m\u001b[0m\n\u001b[0m\u001b[1;32m      4\u001b[0m \u001b[0mprint\u001b[0m\u001b[0;34m(\u001b[0m \u001b[0mclf4\u001b[0m\u001b[0;34m.\u001b[0m\u001b[0mbest_params_\u001b[0m\u001b[0;34m)\u001b[0m\u001b[0;34m\u001b[0m\u001b[0m\n",
      "\u001b[0;31mAttributeError\u001b[0m: 'DecisionTreeClassifier' object has no attribute 'best_params_'"
     ]
    }
   ],
   "source": [
    "print( clf1.best_params_)\n",
    "print( clf2.best_params_)\n",
    "#print( clf3.best_params_)\n",
    "#print( clf4.best_params_)"
   ]
  },
  {
   "cell_type": "code",
   "execution_count": null,
   "metadata": {
    "collapsed": true
   },
   "outputs": [],
   "source": []
  },
  {
   "cell_type": "code",
   "execution_count": null,
   "metadata": {
    "collapsed": true
   },
   "outputs": [],
   "source": [
    "pipe_logit = Pipeline( [\n",
    "    ('poly', PolynomialFeatures(include_bias=False)),\n",
    "    ('scl', StandardScaler()),\n",
    "    ('clf', LogisticRegression(n_jobs=-1, random_state=42))\n",
    "])\n",
    "\n",
    "pipe_lsvc = Pipeline([\n",
    "    ('poly', PolynomialFeatures(degree=4,include_bias=False)),\n",
    "    ('scl', StandardScaler()),\n",
    "    ('clf', LinearSVC(random_state=42))\n",
    "])\n",
    "    \n",
    "pipe_lparams = {\n",
    "    'poly__degree':[2,3,4],\n",
    "    'clf__penalty':['l1', 'l2'],\n",
    "    'clf__C':np.logspace(-3,3,7),\n",
    "}\n",
    "\n",
    "pipe_dtc = Pipeline([\n",
    "    ('poly', PolynomialFeatures()),\n",
    "    ('scl', StandardScaler()),\n",
    "    ('clf', DecisionTreeClassifier(random_state=42)),\n",
    "    \n",
    "])\n",
    "pipe_dtparams = {\n",
    "    'poly__degree':[1,2,3,4],\n",
    "    'clf__max_depth':[3,5,7,9]\n",
    "}\n",
    "\n",
    "pipe_knn = Pipeline([\n",
    "    ('poly', PolynomialFeatures(degree=4,include_bias=False)),\n",
    "    ('scl', StandardScaler()),\n",
    "    ('clf', KNeighborsClassifier(n_jobs = -1)),\n",
    "    \n",
    "])\n",
    "pipe_knnparams = {\n",
    "    'poly__degree':[1,2,3,4],\n",
    "    'clf__n_neighbors':[3,5,7,9]\n",
    "}\n",
    "\n",
    "\n",
    "clf1 = GridSearchCV( pipe_logit,pipe_lparams)\n",
    "clf2 = GridSearchCV( pipe_lsvc,pipe_lparams)\n",
    "clf3 = GridSearchCV( pipe_dtc, pipe_dtparams)\n",
    "clf4 = GridSearchcv( pipe_knn, pipe_knnparams)\n",
    "#clf3 = DecisionTreeClassifier(max_depth=4)\n",
    "#clf4 = KNeighborsClassifier(n_neighbors=7)\n",
    "\n",
    "clf1.fit(x2_train, y2_train)\n",
    "clf2.fit(x2_train, y2_train)\n",
    "clf3.fit(x2_train, y2_train)\n",
    "clf4.fit(x2_train, y2_train)\n",
    "                    \n",
    "logit_scores = ( clf1.score(x2_train, y2_train), clf1.score(x2_test, y2_test))\n",
    "lsvc_scores =  ( clf2.score(x2_train, y2_train), clf2.score(x2_test, y2_test))\n",
    "dtc_scores = ( clf3.score(x2_train, y2_train),   clf3.score(x2_test, y2_test))\n",
    "knc_scores = ( clf4.score(x2_train, y2_train),   clf4.score(x2_test, y2_test))\n",
    "\n",
    "base_scores = {\n",
    "    'logit': logit_scores,\n",
    "    'linear_svc': lsvc_scores,\n",
    "    'decision_tree': dtc_scores,\n",
    "    'kNeighbors':knc_scores\n",
    "}\n",
    "\n",
    "\n",
    "print(logit_scores)\n",
    "print(lsvc_scores)\n",
    "print(dtc_scores)\n",
    "print(knc_scores)\n",
    "#pipe2_gs = GridSearchCV( pipe2, pipe2_params, n_jobs =-1)\n",
    "#pipe2_gs.fit( x2_train, y2_train)\n",
    "    "
   ]
  },
  {
   "cell_type": "code",
   "execution_count": 17,
   "metadata": {},
   "outputs": [
    {
     "data": {
      "text/plain": [
       "{'clf__C': 0.001, 'poly__degree': 2}"
      ]
     },
     "execution_count": 17,
     "metadata": {},
     "output_type": "execute_result"
    }
   ],
   "source": [
    "clf1.best_params_"
   ]
  },
  {
   "cell_type": "code",
   "execution_count": 18,
   "metadata": {},
   "outputs": [
    {
     "ename": "AttributeError",
     "evalue": "'LinearSVC' object has no attribute 'best_params_'",
     "output_type": "error",
     "traceback": [
      "\u001b[0;31m---------------------------------------------------------------------------\u001b[0m",
      "\u001b[0;31mAttributeError\u001b[0m                            Traceback (most recent call last)",
      "\u001b[0;32m<ipython-input-18-99f6cc158da4>\u001b[0m in \u001b[0;36m<module>\u001b[0;34m()\u001b[0m\n\u001b[0;32m----> 1\u001b[0;31m \u001b[0mclf2\u001b[0m\u001b[0;34m.\u001b[0m\u001b[0mbest_params_\u001b[0m\u001b[0;34m\u001b[0m\u001b[0m\n\u001b[0m",
      "\u001b[0;31mAttributeError\u001b[0m: 'LinearSVC' object has no attribute 'best_params_'"
     ]
    }
   ],
   "source": [
    "clf2.best_params_"
   ]
  },
  {
   "cell_type": "code",
   "execution_count": 16,
   "metadata": {},
   "outputs": [
    {
     "data": {
      "text/plain": [
       "{'decision_tree': (0.8746666666666667, 0.83799999999999997),\n",
       " 'kNeighbors': (0.91933333333333334, 0.86599999999999999),\n",
       " 'linear_svc': (0.79400000000000004, 0.77400000000000002),\n",
       " 'logit': (0.92333333333333334, 0.86599999999999999)}"
      ]
     },
     "execution_count": 16,
     "metadata": {},
     "output_type": "execute_result"
    }
   ],
   "source": [
    "run1_base_scores = base_scores\n",
    "run1_base_scores\n"
   ]
  },
  {
   "cell_type": "code",
   "execution_count": null,
   "metadata": {
    "collapsed": true
   },
   "outputs": [],
   "source": []
  },
  {
   "cell_type": "code",
   "execution_count": null,
   "metadata": {
    "collapsed": true
   },
   "outputs": [],
   "source": []
  },
  {
   "cell_type": "code",
   "execution_count": 6,
   "metadata": {
    "collapsed": true
   },
   "outputs": [],
   "source": [
    "from itertools import product\n",
    "from sklearn.tree import DecisionTreeClassifier\n",
    "from sklearn.neighbors import KNeighborsClassifier"
   ]
  },
  {
   "cell_type": "code",
   "execution_count": null,
   "metadata": {},
   "outputs": [],
   "source": [
    "x_min, x_max = xb[:, 0].min() - 1, xb[:, 0].max() + 1\n",
    "y_min, y_max = xb[:, 1].min() - 1, xb[:, 1].max() + 1\n",
    "xx, yy = np.meshgrid(np.arange(x_min, x_max, 0.1),\n",
    "                     np.arange(y_min, y_max, 0.1))\n",
    "\n",
    "f, axarr = plt.subplots(2, 2, sharex='col', sharey='row', figsize=(10, 8))\n",
    "\n",
    "for idx, clf, tt in zip(product([0, 1], [0, 1]),  # product([0, 1,2], [0, 1])\n",
    "                        [clf1, clf2, clf3, clf4], #clf5, clf6],\n",
    "                        ['Logistic Regression', #'Logistic w/Poly (d=3)',\n",
    "                         'lSVC', #'lSVC w/Poly (d=3)',\n",
    "                         'Decision Tree (d=4)',\n",
    "                         'KNeighborsClassifier (k = 7)'\n",
    "                        ]): \n",
    "\n",
    "    Z = clf.predict(np.c_[xx.ravel(), yy.ravel()])\n",
    "    Z = Z.reshape(xx.shape)\n",
    "    \n",
    "    y_predicted = clf.predict( xb)\n",
    "    score = str(clf.score(xb,yb))\n",
    "\n",
    "    axarr[idx[0], idx[1]].contourf(xx, yy, Z, alpha=0.4, cmap=cm.jet)\n",
    "    axarr[idx[0], idx[1]].scatter(xb[:, 0], xb[:, 1], c=y_predicted,  #c=y\n",
    "                                  s=20, edgecolor='k', cmap=cm.jet)\n",
    "    axarr[idx[0], idx[1]].set_title(tt + ' (' + score + ')')\n",
    "    #axarr[idx[0], idx[1]].text( 0,2, score )\n",
    "\n",
    "plt.show()"
   ]
  },
  {
   "cell_type": "code",
   "execution_count": null,
   "metadata": {
    "collapsed": true
   },
   "outputs": [],
   "source": []
  }
 ],
 "metadata": {
  "kernelspec": {
   "display_name": "Python 3",
   "language": "python",
   "name": "python3"
  },
  "language_info": {
   "codemirror_mode": {
    "name": "ipython",
    "version": 3
   },
   "file_extension": ".py",
   "mimetype": "text/x-python",
   "name": "python",
   "nbconvert_exporter": "python",
   "pygments_lexer": "ipython3",
   "version": "3.6.2"
  }
 },
 "nbformat": 4,
 "nbformat_minor": 2
}
