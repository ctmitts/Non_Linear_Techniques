{
 "cells": [
  {
   "cell_type": "code",
   "execution_count": 1,
   "metadata": {
    "collapsed": true
   },
   "outputs": [],
   "source": [
    "from DataTools import *\n",
    "#from DataTools as dt\n",
    "\n",
    "%matplotlib inline"
   ]
  },
  {
   "cell_type": "code",
   "execution_count": 2,
   "metadata": {
    "collapsed": true
   },
   "outputs": [],
   "source": [
    "from itertools import product\n",
    "from sklearn.tree import DecisionTreeClassifier\n",
    "from sklearn.neighbors import KNeighborsClassifier\n",
    "from sklearn.model_selection import GridSearchCV "
   ]
  },
  {
   "cell_type": "code",
   "execution_count": 3,
   "metadata": {
    "collapsed": true
   },
   "outputs": [],
   "source": [
    "## USE THIS\n",
    "\n",
    "x2, y2 =make_classification(n_samples = 2000, n_features=20, n_redundant=5, n_informative=5, n_repeated=0,\n",
    "                             n_clusters_per_class=2, n_classes=2, random_state=42)\n",
    "\n",
    "x2_train, x2_test, y2_train, y2_test = train_test_split( x2, y2, random_state=42)"
   ]
  },
  {
   "cell_type": "code",
   "execution_count": 4,
   "metadata": {},
   "outputs": [
    {
     "name": "stdout",
     "output_type": "stream",
     "text": [
      "(0.95799999999999996, 0.89800000000000002)\n",
      "(0.94199999999999995, 0.90000000000000002)\n",
      "(0.94466666666666665, 0.84399999999999997)\n",
      "(0.91733333333333333, 0.872)\n"
     ]
    }
   ],
   "source": [
    "pipe_logit = Pipeline( [\n",
    "    ('rbf', Nystroem(kernel= 'rbf', n_components = 500, random_state=42)),  ## sigmoid\n",
    "    #('poly', PolynomialFeatures(include_bias=False)),\n",
    "    ('scl', StandardScaler()),\n",
    "    ('clf', LogisticRegression(n_jobs=-1, random_state=42))\n",
    "])\n",
    "\n",
    "pipe_lsvc = Pipeline([\n",
    "    ('rbf', Nystroem(kernel= 'rbf', n_components = 500, random_state=42)),  ## sigmoid\n",
    "    #('poly', PolynomialFeatures(degree=4,include_bias=False)),\n",
    "    ('scl', StandardScaler()),\n",
    "    ('clf', LinearSVC(random_state=42))\n",
    "])\n",
    "    \n",
    "pipe_lparams = {\n",
    "    'rbf__degree':[2,3,4],\n",
    "    'rbf__gamma':np.logspace(-3,3,7),  # [2,3,4],\n",
    "    #'clf__penalty':['l1', 'l2'],\n",
    "    'clf__C':np.logspace(-3,3,7),\n",
    "}\n",
    "\n",
    "pipe_dtc = Pipeline([\n",
    "    ('rbf', Nystroem(kernel= 'rbf', n_components = 500, random_state=42)),  ## sigmoid\n",
    "    #('poly', PolynomialFeatures()),\n",
    "    ('scl', StandardScaler()),\n",
    "    ('clf', DecisionTreeClassifier(random_state=42)),\n",
    "    \n",
    "])\n",
    "pipe_dtparams = {\n",
    "    'rbf__degree':[1,2,3,4],\n",
    "    'rbf__gamma':np.logspace(-3,3,7),  # [2,3,4],\n",
    "    'clf__max_depth':[3,5,7,9]\n",
    "}\n",
    "\n",
    "pipe_knn = Pipeline([\n",
    "    ('rbf', Nystroem(kernel= 'rbf', n_components = 500, random_state=42)),  ## sigmoid\n",
    "    #('poly', PolynomialFeatures(degree=4,include_bias=False)),\n",
    "    ('scl', StandardScaler()),\n",
    "    ('clf', KNeighborsClassifier(n_jobs = -1)),\n",
    "    \n",
    "])\n",
    "pipe_knnparams = {\n",
    "    'rbf__degree':[1,2,3,4],\n",
    "    'rbf__gamma':np.logspace(-3,3,7),  # [2,3,4],\n",
    "    'clf__n_neighbors':[3,5,7,9]\n",
    "}\n",
    "\n",
    "\n",
    "clf1 = GridSearchCV( pipe_logit,pipe_lparams)\n",
    "clf2 = GridSearchCV( pipe_lsvc,pipe_lparams)\n",
    "clf3 = GridSearchCV( pipe_dtc, pipe_dtparams)\n",
    "clf4 = GridSearchCV( pipe_knn, pipe_knnparams)\n",
    "#clf3 = DecisionTreeClassifier(max_depth=4)\n",
    "#clf4 = KNeighborsClassifier(n_neighbors=7)\n",
    "\n",
    "clf1.fit(x2_train, y2_train)\n",
    "clf2.fit(x2_train, y2_train)\n",
    "clf3.fit(x2_train, y2_train)\n",
    "clf4.fit(x2_train, y2_train)\n",
    "                    \n",
    "logit_scores = ( clf1.score(x2_train, y2_train), clf1.score(x2_test, y2_test))\n",
    "lsvc_scores =  ( clf2.score(x2_train, y2_train), clf2.score(x2_test, y2_test))\n",
    "dtc_scores = ( clf3.score(x2_train, y2_train),   clf3.score(x2_test, y2_test))\n",
    "knc_scores = ( clf4.score(x2_train, y2_train),   clf4.score(x2_test, y2_test))\n",
    "\n",
    "base_scores = {\n",
    "    'logit': logit_scores,\n",
    "    'linear_svc': lsvc_scores,\n",
    "    'decision_tree': dtc_scores,\n",
    "    'kNeighbors':knc_scores\n",
    "}\n",
    "\n",
    "\n",
    "print(logit_scores)\n",
    "print(lsvc_scores)\n",
    "print(dtc_scores)\n",
    "print(knc_scores)\n",
    "#pipe2_gs = GridSearchCV( pipe2, pipe2_params, n_jobs =-1)\n",
    "#pipe2_gs.fit( x2_train, y2_train)\n",
    "    "
   ]
  },
  {
   "cell_type": "code",
   "execution_count": null,
   "metadata": {
    "collapsed": true
   },
   "outputs": [],
   "source": [
    "ny_rbf_logit_train, ny_rbf_logit_train =(0.95799999999999996, 0.89800000000000002)\n",
    "ny_rbf_lsvc_train, ny_rbf_lsvc_train = (0.94199999999999995, 0.90000000000000002)\n",
    "ny_rbf_dtc_train, ny_rbf_dtc_train = (0.94466666666666665, 0.84399999999999997)\n",
    "ny_rbf_knnc_train, ny_rbf_knnc_train = (0.91733333333333333, 0.872)"
   ]
  },
  {
   "cell_type": "code",
   "execution_count": 5,
   "metadata": {},
   "outputs": [
    {
     "name": "stdout",
     "output_type": "stream",
     "text": [
      "{'clf__C': 0.10000000000000001, 'rbf__degree': 2, 'rbf__gamma': 0.01}\n",
      "{'clf__C': 0.001, 'rbf__degree': 2, 'rbf__gamma': 0.10000000000000001}\n",
      "{'clf__max_depth': 7, 'rbf__degree': 1, 'rbf__gamma': 0.001}\n",
      "{'clf__n_neighbors': 9, 'rbf__degree': 1, 'rbf__gamma': 0.01}\n"
     ]
    }
   ],
   "source": [
    "print( clf1.best_params_)\n",
    "print( clf2.best_params_)\n",
    "print( clf3.best_params_)\n",
    "print( clf4.best_params_)"
   ]
  },
  {
   "cell_type": "code",
   "execution_count": 6,
   "metadata": {},
   "outputs": [
    {
     "name": "stdout",
     "output_type": "stream",
     "text": [
      "(0.91933333333333334, 0.90000000000000002)\n",
      "(0.93200000000000005, 0.91000000000000003)\n",
      "(0.89733333333333332, 0.85399999999999998)\n",
      "(0.91733333333333333, 0.874)\n"
     ]
    }
   ],
   "source": [
    "## PCA\n",
    "pipe_logit = Pipeline( [\n",
    "    ('rbf', Nystroem(kernel= 'rbf', n_components = 500, random_state=42)),  ## sigmoid\n",
    "    #('poly', PolynomialFeatures(include_bias=False)),\n",
    "    ('scl', StandardScaler()),\n",
    "    ('pca', PCA(random_state = 42)),\n",
    "    ('clf', LogisticRegression(n_jobs=-1, random_state=42))\n",
    "])\n",
    "\n",
    "pipe_lsvc = Pipeline([\n",
    "    ('rbf', Nystroem(kernel= 'rbf', n_components = 500, random_state=42)),  ## sigmoid\n",
    "    #('poly', PolynomialFeatures(degree=4,include_bias=False)),\n",
    "    ('scl', StandardScaler()),\n",
    "    ('pca', PCA(random_state = 42)),\n",
    "    ('clf', LinearSVC(random_state=42))\n",
    "])\n",
    "    \n",
    "pipe_lparams = {\n",
    "    'rbf__degree':[2,3,4],\n",
    "    'rbf__gamma':np.logspace(-3,3,7),  # [2,3,4],\n",
    "    'pca__n_components': [20, 50, 100, 200],\n",
    "    #'clf__penalty':['l1', 'l2'],\n",
    "    'clf__C':np.logspace(-3,3,7),\n",
    "}\n",
    "\n",
    "pipe_dtc = Pipeline([\n",
    "    ('rbf', Nystroem(kernel= 'rbf', n_components = 500, random_state=42)),  ## sigmoid\n",
    "    #('poly', PolynomialFeatures()),\n",
    "    ('scl', StandardScaler()),\n",
    "    ('pca', PCA(random_state = 42)),\n",
    "    ('clf', DecisionTreeClassifier(random_state=42)),\n",
    "    \n",
    "])\n",
    "pipe_dtparams = {\n",
    "    'rbf__degree':[1,2,3,4],\n",
    "    'rbf__gamma':np.logspace(-3,3,7),  # [2,3,4],\n",
    "    'pca__n_components': [20, 50, 100, 200],\n",
    "    'clf__max_depth':[3,5,7,9]\n",
    "}\n",
    "\n",
    "pipe_knn = Pipeline([\n",
    "    ('rbf', Nystroem(kernel= 'rbf', n_components = 500, random_state=42)),  ## sigmoid\n",
    "    #('poly', PolynomialFeatures(degree=4,include_bias=False)),\n",
    "    ('scl', StandardScaler()),\n",
    "    ('pca', PCA(random_state = 42)),\n",
    "    ('clf', KNeighborsClassifier(n_jobs = -1)),\n",
    "    \n",
    "])\n",
    "pipe_knnparams = {\n",
    "    'rbf__degree':[1,2,3,4],\n",
    "    'rbf__gamma':np.logspace(-3,3,7),  # [2,3,4],\n",
    "    'pca__n_components': [20, 50, 100, 200],\n",
    "    'clf__n_neighbors':[3,5,7,9]\n",
    "}\n",
    "\n",
    "\n",
    "clf1 = GridSearchCV( pipe_logit,pipe_lparams)\n",
    "clf2 = GridSearchCV( pipe_lsvc,pipe_lparams)\n",
    "clf3 = GridSearchCV( pipe_dtc, pipe_dtparams)\n",
    "clf4 = GridSearchCV( pipe_knn, pipe_knnparams)\n",
    "#clf3 = DecisionTreeClassifier(max_depth=4)\n",
    "#clf4 = KNeighborsClassifier(n_neighbors=7)\n",
    "\n",
    "clf1.fit(x2_train, y2_train)\n",
    "clf2.fit(x2_train, y2_train)\n",
    "clf3.fit(x2_train, y2_train)\n",
    "clf4.fit(x2_train, y2_train)\n",
    "                    \n",
    "logit_scores = ( clf1.score(x2_train, y2_train), clf1.score(x2_test, y2_test))\n",
    "lsvc_scores =  ( clf2.score(x2_train, y2_train), clf2.score(x2_test, y2_test))\n",
    "dtc_scores = ( clf3.score(x2_train, y2_train),   clf3.score(x2_test, y2_test))\n",
    "knc_scores = ( clf4.score(x2_train, y2_train),   clf4.score(x2_test, y2_test))\n",
    "\n",
    "base_scores = {\n",
    "    'logit': logit_scores,\n",
    "    'linear_svc': lsvc_scores,\n",
    "    'decision_tree': dtc_scores,\n",
    "    'kNeighbors':knc_scores\n",
    "}\n",
    "\n",
    "\n",
    "print(logit_scores)\n",
    "print(lsvc_scores)\n",
    "print(dtc_scores)\n",
    "print(knc_scores)\n",
    "#pipe2_gs = GridSearchCV( pipe2, pipe2_params, n_jobs =-1)\n",
    "#pipe2_gs.fit( x2_train, y2_train)\n",
    "    "
   ]
  },
  {
   "cell_type": "code",
   "execution_count": null,
   "metadata": {
    "collapsed": true
   },
   "outputs": [],
   "source": [
    "print( clf1.best_params_)\n",
    "print( clf2.best_params_)\n",
    "print( clf3.best_params_)\n",
    "print( clf4.best_params_)"
   ]
  }
 ],
 "metadata": {
  "kernelspec": {
   "display_name": "Python 3",
   "language": "python",
   "name": "python3"
  },
  "language_info": {
   "codemirror_mode": {
    "name": "ipython",
    "version": 3
   },
   "file_extension": ".py",
   "mimetype": "text/x-python",
   "name": "python",
   "nbconvert_exporter": "python",
   "pygments_lexer": "ipython3",
   "version": "3.6.2"
  }
 },
 "nbformat": 4,
 "nbformat_minor": 2
}
