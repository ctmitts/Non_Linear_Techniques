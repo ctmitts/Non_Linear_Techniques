{
 "cells": [
  {
   "cell_type": "code",
   "execution_count": 25,
   "metadata": {},
   "outputs": [
    {
     "name": "stdout",
     "output_type": "stream",
     "text": [
      "/home/jovyan\r\n"
     ]
    }
   ],
   "source": [
    "!pwd"
   ]
  },
  {
   "cell_type": "code",
   "execution_count": 1,
   "metadata": {
    "collapsed": true
   },
   "outputs": [],
   "source": [
    "from DataTools import *\n",
    "#from DataTools as dt\n",
    "\n",
    "%matplotlib inline"
   ]
  },
  {
   "cell_type": "code",
   "execution_count": 2,
   "metadata": {},
   "outputs": [
    {
     "data": {
      "text/plain": [
       "((1000, 20), (1000,))"
      ]
     },
     "execution_count": 2,
     "metadata": {},
     "output_type": "execute_result"
    }
   ],
   "source": [
    "X, y = data_sets['classification']\n",
    "X.shape, y.shape"
   ]
  },
  {
   "cell_type": "code",
   "execution_count": 3,
   "metadata": {
    "collapsed": true
   },
   "outputs": [],
   "source": [
    "from sklearn.model_selection import train_test_split"
   ]
  },
  {
   "cell_type": "code",
   "execution_count": 4,
   "metadata": {
    "collapsed": true
   },
   "outputs": [],
   "source": [
    "X_train, X_test, y_train, y_test = train_test_split( X, y, random_state = 42)"
   ]
  },
  {
   "cell_type": "code",
   "execution_count": null,
   "metadata": {
    "collapsed": true
   },
   "outputs": [],
   "source": []
  },
  {
   "cell_type": "code",
   "execution_count": null,
   "metadata": {
    "collapsed": true
   },
   "outputs": [],
   "source": []
  },
  {
   "cell_type": "markdown",
   "metadata": {},
   "source": [
    "## Create Polynomial features outside of the pipeline and apply k_centered instead of StandardScaler"
   ]
  },
  {
   "cell_type": "code",
   "execution_count": null,
   "metadata": {
    "collapsed": true
   },
   "outputs": [],
   "source": [
    "poly = PolynomialFeatures()\n",
    "\n",
    "poly."
   ]
  },
  {
   "cell_type": "code",
   "execution_count": 5,
   "metadata": {},
   "outputs": [],
   "source": [
    "poly_pipelines= build_pipelines( 'poly', 'k_center', 'pca') # 'standard'\n",
    "\n",
    "poly_logit_pipe = poly_pipelines[0]\n",
    "poly_sgd_pipe = poly_pipelines[1]\n",
    "poly_lsvc_pipe = poly_pipelines[3]\n",
    "poly_tree_pipe = poly_pipelines[4]"
   ]
  },
  {
   "cell_type": "code",
   "execution_count": null,
   "metadata": {},
   "outputs": [],
   "source": [
    "poly_logit_pipe.steps"
   ]
  },
  {
   "cell_type": "code",
   "execution_count": 10,
   "metadata": {},
   "outputs": [
    {
     "data": {
      "text/plain": [
       "PolynomialFeatures(degree=2, include_bias=False, interaction_only=False)"
      ]
     },
     "execution_count": 10,
     "metadata": {},
     "output_type": "execute_result"
    }
   ],
   "source": [
    "poly_logit_pipe.steps[0][1].set_params( degree = 2, include_bias = False)  \n",
    "#poly_logit_pipe.steps[2][1].set_params( n_components = 20) \n",
    "\n"
   ]
  },
  {
   "cell_type": "code",
   "execution_count": null,
   "metadata": {},
   "outputs": [],
   "source": [
    "len(np.arange(2,220,16))"
   ]
  },
  {
   "cell_type": "code",
   "execution_count": null,
   "metadata": {},
   "outputs": [],
   "source": [
    "np.logspace(-3,3,10)"
   ]
  },
  {
   "cell_type": "code",
   "execution_count": null,
   "metadata": {
    "collapsed": true
   },
   "outputs": [],
   "source": [
    "LogisticRegression()"
   ]
  },
  {
   "cell_type": "code",
   "execution_count": 12,
   "metadata": {},
   "outputs": [],
   "source": [
    "poly_logit_params = {\n",
    "    'pca__n_components':np.arange(2,220,16),  #np.arange(2,22,2),\n",
    "    'logit__C':np.logspace(-3,3,10),\n",
    "    'logit__penalty':['l1','l2']\n",
    "}"
   ]
  },
  {
   "cell_type": "code",
   "execution_count": 13,
   "metadata": {
    "collapsed": true
   },
   "outputs": [],
   "source": [
    "poly_logit_gs = GridSearchCV(poly_logit_pipe, poly_logit_params)"
   ]
  },
  {
   "cell_type": "code",
   "execution_count": 14,
   "metadata": {},
   "outputs": [
    {
     "data": {
      "text/plain": [
       "(0.90133333333333332, 0.78400000000000003)"
      ]
     },
     "execution_count": 14,
     "metadata": {},
     "output_type": "execute_result"
    }
   ],
   "source": [
    "poly_logit_gs.fit( X_train, y_train)\n",
    "poly_logit_gs.score( X_train, y_train),poly_logit_gs.score( X_test, y_test)\n",
    "\n",
    "## d = 2\n",
    "## bias = True:  (0.76000000000000001, 0.748)  params:  'logit__C': 215.44346900318823, 'pca__n_components': 20\n",
    "## bias = False:  (0.76533333333333331, 0.74399999999999999)"
   ]
  },
  {
   "cell_type": "code",
   "execution_count": 15,
   "metadata": {},
   "outputs": [
    {
     "data": {
      "text/plain": [
       "{'logit__C': 0.46415888336127775,\n",
       " 'logit__penalty': 'l1',\n",
       " 'pca__n_components': 114}"
      ]
     },
     "execution_count": 15,
     "metadata": {},
     "output_type": "execute_result"
    }
   ],
   "source": [
    "poly_logit_gs.best_params_"
   ]
  },
  {
   "cell_type": "code",
   "execution_count": 11,
   "metadata": {},
   "outputs": [
    {
     "data": {
      "text/plain": [
       "(0.94533333333333336, 0.752)"
      ]
     },
     "execution_count": 11,
     "metadata": {},
     "output_type": "execute_result"
    }
   ],
   "source": [
    "poly_logit_pipe.fit(X_train, y_train)\n",
    "poly_logit_pipe.score(X_train, y_train), poly_logit_pipe.score(X_test, y_test)"
   ]
  },
  {
   "cell_type": "code",
   "execution_count": 24,
   "metadata": {},
   "outputs": [
    {
     "data": {
      "text/plain": [
       "0.91383842549797822"
      ]
     },
     "execution_count": 24,
     "metadata": {},
     "output_type": "execute_result"
    }
   ],
   "source": [
    "np.cumsum(poly_logit_gs.estimator.steps[2][1].explained_variance_ratio_)[114]"
   ]
  },
  {
   "cell_type": "code",
   "execution_count": null,
   "metadata": {
    "collapsed": true
   },
   "outputs": [],
   "source": [
    "expl_variances = poly_logit_pipe.steps[2][1].explained_variance_ratio_\n",
    "#print(expl_variances.shape[0])\n",
    "plt.plot(range(expl_variances.shape[0]), np.cumsum(expl_variances), label='cumulative explained variance')\n",
    "plt.legend()\n",
    "print( np.max(np.cumsum(expl_variances) ))"
   ]
  },
  {
   "cell_type": "code",
   "execution_count": null,
   "metadata": {
    "collapsed": true
   },
   "outputs": [],
   "source": []
  },
  {
   "cell_type": "code",
   "execution_count": null,
   "metadata": {
    "collapsed": true
   },
   "outputs": [],
   "source": []
  },
  {
   "cell_type": "code",
   "execution_count": null,
   "metadata": {
    "collapsed": true
   },
   "outputs": [],
   "source": []
  },
  {
   "cell_type": "code",
   "execution_count": null,
   "metadata": {
    "collapsed": true
   },
   "outputs": [],
   "source": []
  },
  {
   "cell_type": "markdown",
   "metadata": {},
   "source": [
    "## Original"
   ]
  },
  {
   "cell_type": "code",
   "execution_count": null,
   "metadata": {
    "collapsed": true
   },
   "outputs": [],
   "source": [
    "poly_pipelines= build_pipelines( 'poly', 'standard', 'svd', )\n",
    "\n",
    "poly_logit_pipe = poly_pipelines[0]\n",
    "poly_sgd_pipe = poly_pipelines[1]\n",
    "poly_lsvc_pipe = poly_pipelines[3]\n",
    "poly_tree_pipe = poly_pipelines[4]"
   ]
  },
  {
   "cell_type": "code",
   "execution_count": null,
   "metadata": {
    "collapsed": true
   },
   "outputs": [],
   "source": [
    "poly_logit_pipe"
   ]
  },
  {
   "cell_type": "code",
   "execution_count": null,
   "metadata": {},
   "outputs": [],
   "source": [
    "poly = generators['poly']\n",
    "poly.set_params(degree=4)\n",
    "X_poly = poly.fit_transform(X) \n",
    "X_poly.shape"
   ]
  },
  {
   "cell_type": "markdown",
   "metadata": {},
   "source": [
    "Poly( d = 1) = 21\n",
    "\n",
    "Poly( d = 2) = 231\n",
    "\n",
    "Poly( d = 3) = 1771\n",
    "\n",
    "Poly( d = 4) = 10626\n",
    "\n"
   ]
  },
  {
   "cell_type": "markdown",
   "metadata": {},
   "source": [
    "## Polynomial (degree = 1)"
   ]
  },
  {
   "cell_type": "code",
   "execution_count": null,
   "metadata": {},
   "outputs": [],
   "source": [
    "poly_logit_pipe.steps"
   ]
  },
  {
   "cell_type": "code",
   "execution_count": null,
   "metadata": {},
   "outputs": [],
   "source": [
    "poly_logit_pipe.steps[0][1].set_params( degree = 1)  \n",
    "poly_logit_pipe.steps[2][1].set_params( n_components = 20) \n",
    "poly_logit_pipe.fit(X_train, y_train)\n",
    "poly_logit_pipe.score(X_train, y_train), poly_logit_pipe.score(X_test, y_test)\n"
   ]
  },
  {
   "cell_type": "code",
   "execution_count": null,
   "metadata": {
    "collapsed": true
   },
   "outputs": [],
   "source": [
    "poly1_logit_params = {\n",
    "    \n",
    "    \n",
    "    \n",
    "}"
   ]
  },
  {
   "cell_type": "code",
   "execution_count": null,
   "metadata": {},
   "outputs": [],
   "source": [
    "poly_sgd_pipe.steps[0][1].set_params( degree = 1)  \n",
    "poly_sgd_pipe.steps[2][1].set_params( n_components = 20) \n",
    "poly_sgd_pipe.fit(X_train, y_train)\n",
    "poly_sgd_pipe.score(X_train, y_train), poly_sgd_pipe.score(X_test, y_test)"
   ]
  },
  {
   "cell_type": "code",
   "execution_count": null,
   "metadata": {},
   "outputs": [],
   "source": [
    "poly_lsvc_pipe.steps[0][1].set_params( degree = 1)  \n",
    "poly_lsvc_pipe.steps[2][1].set_params( n_components = 20) \n",
    "poly_lsvc_pipe.fit(X_train, y_train)\n",
    "poly_lsvc_pipe.score(X_train, y_train), poly_lsvc_pipe.score(X_test, y_test)"
   ]
  },
  {
   "cell_type": "code",
   "execution_count": null,
   "metadata": {},
   "outputs": [],
   "source": [
    "poly_tree_pipe.steps[0][1].set_params( degree = 1)  \n",
    "poly_tree_pipe.steps[2][1].set_params( n_components = 20) \n",
    "poly_tree_pipe.fit(X_train, y_train)\n",
    "poly_tree_pipe.score(X_train, y_train), poly_tree_pipe.score(X_test, y_test)"
   ]
  },
  {
   "cell_type": "code",
   "execution_count": null,
   "metadata": {},
   "outputs": [],
   "source": [
    "expl_variances = poly_logit_pipe.steps[2][1].explained_variance_ratio_\n",
    "#print(expl_variances.shape[0])\n",
    "plt.plot(range(expl_variances.shape[0]), np.cumsum(expl_variances), label='cumulative explained variance')\n",
    "plt.legend()\n",
    "print( np.max(np.cumsum(expl_variances) ))"
   ]
  },
  {
   "cell_type": "code",
   "execution_count": null,
   "metadata": {
    "collapsed": true
   },
   "outputs": [],
   "source": []
  },
  {
   "cell_type": "code",
   "execution_count": null,
   "metadata": {
    "collapsed": true
   },
   "outputs": [],
   "source": []
  },
  {
   "cell_type": "code",
   "execution_count": null,
   "metadata": {
    "collapsed": true
   },
   "outputs": [],
   "source": []
  },
  {
   "cell_type": "markdown",
   "metadata": {},
   "source": [
    "## Polynomial (degree = 2)"
   ]
  },
  {
   "cell_type": "code",
   "execution_count": null,
   "metadata": {
    "collapsed": true
   },
   "outputs": [],
   "source": [
    "d2_components = 50"
   ]
  },
  {
   "cell_type": "code",
   "execution_count": null,
   "metadata": {},
   "outputs": [],
   "source": [
    "poly_logit_pipe.steps[0][1].set_params( degree = 2)  \n",
    "poly_logit_pipe.steps[2][1].set_params( n_components = d2_components)   #/230\n",
    "poly_logit_pipe.fit(X_train, y_train)\n",
    "poly_logit_pipe.score(X_train, y_train), poly_logit_pipe.score(X_test, y_test)\n",
    "# 200-230 .756\n",
    "# 200 .756\n",
    "# 150 .748\n",
    "# 100 .768\n",
    "# 50  .756"
   ]
  },
  {
   "cell_type": "code",
   "execution_count": null,
   "metadata": {},
   "outputs": [],
   "source": [
    "poly_sgd_pipe.steps[0][1].set_params( degree = 2)  \n",
    "poly_sgd_pipe.steps[2][1].set_params( n_components = d2_components) \n",
    "poly_sgd_pipe.fit(X_train, y_train)\n",
    "poly_sgd_pipe.score(X_train, y_train), poly_sgd_pipe.score(X_test, y_test)\n",
    "# 200-230 .748\n",
    "## 150 .7119\n",
    "## 100 .768\n",
    "## 50 .7279"
   ]
  },
  {
   "cell_type": "code",
   "execution_count": null,
   "metadata": {},
   "outputs": [],
   "source": [
    "poly_lsvc_pipe.steps[0][1].set_params( degree = 2)  \n",
    "poly_lsvc_pipe.steps[2][1].set_params( n_components = d2_components) \n",
    "poly_lsvc_pipe.fit(X_train, y_train)\n",
    "poly_lsvc_pipe.score(X_train, y_train), poly_lsvc_pipe.score(X_test, y_test)\n",
    "# 200-230 .739\n",
    "# 150 .752\n",
    "# 100 .764"
   ]
  },
  {
   "cell_type": "code",
   "execution_count": null,
   "metadata": {},
   "outputs": [],
   "source": [
    "poly_tree_pipe.steps[0][1].set_params( degree = 2)  \n",
    "poly_tree_pipe.steps[2][1].set_params( n_components = d2_components) \n",
    "poly_tree_pipe.fit(X_train, y_train)\n",
    "poly_tree_pipe.score(X_train, y_train), poly_tree_pipe.score(X_test, y_test)\n",
    "# 200-230 .556\n",
    "# 150 .5\n",
    "# 100 .54\n",
    "# 50 .54"
   ]
  },
  {
   "cell_type": "code",
   "execution_count": null,
   "metadata": {},
   "outputs": [],
   "source": [
    "expl_variances = poly_logit_pipe.steps[2][1].explained_variance_ratio_\n",
    "#expl_variances.shape[0]\n",
    "plt.plot(range(expl_variances.shape[0]), np.cumsum(expl_variances), label='cumulative explained variance')\n",
    "plt.legend()"
   ]
  },
  {
   "cell_type": "code",
   "execution_count": null,
   "metadata": {
    "collapsed": true
   },
   "outputs": [],
   "source": []
  },
  {
   "cell_type": "code",
   "execution_count": null,
   "metadata": {
    "collapsed": true
   },
   "outputs": [],
   "source": []
  },
  {
   "cell_type": "code",
   "execution_count": null,
   "metadata": {
    "collapsed": true
   },
   "outputs": [],
   "source": []
  },
  {
   "cell_type": "markdown",
   "metadata": {},
   "source": [
    "## Polynomial (degree = 3)"
   ]
  },
  {
   "cell_type": "code",
   "execution_count": null,
   "metadata": {
    "collapsed": true
   },
   "outputs": [],
   "source": [
    "d3_components = 500"
   ]
  },
  {
   "cell_type": "code",
   "execution_count": null,
   "metadata": {},
   "outputs": [],
   "source": [
    "poly_logit_pipe.steps[0][1].set_params( degree = 3)  ## 4 \n",
    "poly_logit_pipe.steps[2][1].set_params( n_components = d3_components) ## 350\n",
    "poly_logit_pipe.fit(X_train, y_train)\n",
    "poly_logit_pipe.score(X_train, y_train), poly_logit_pipe.score(X_test, y_test)\n",
    "## 1000 .7359\n",
    "## 750 .7359\n",
    "## 500 .7119"
   ]
  },
  {
   "cell_type": "code",
   "execution_count": null,
   "metadata": {},
   "outputs": [],
   "source": [
    "poly_sgd_pipe.steps[0][1].set_params( degree = 3)  \n",
    "poly_sgd_pipe.steps[2][1].set_params( n_components = d3_components) \n",
    "poly_sgd_pipe.fit(X_train, y_train)\n",
    "poly_sgd_pipe.score(X_train, y_train), poly_sgd_pipe.score(X_test, y_test)\n",
    "## 1000 .7279\n",
    "## 750 .7279\n",
    "## 500 .756\n"
   ]
  },
  {
   "cell_type": "code",
   "execution_count": null,
   "metadata": {},
   "outputs": [],
   "source": [
    "poly_lsvc_pipe.steps[0][1].set_params( degree = 3)  \n",
    "poly_lsvc_pipe.steps[2][1].set_params( n_components = d3_components) \n",
    "poly_lsvc_pipe.fit(X_train, y_train)\n",
    "poly_lsvc_pipe.score(X_train, y_train), poly_lsvc_pipe.score(X_test, y_test)\n",
    "## 1000 .6919\n",
    "## 750 .6919\n",
    "## 500 .6919"
   ]
  },
  {
   "cell_type": "code",
   "execution_count": null,
   "metadata": {},
   "outputs": [],
   "source": [
    "poly_tree_pipe.steps[0][1].set_params( degree = 3)  \n",
    "poly_tree_pipe.steps[2][1].set_params( n_components = d3_components) \n",
    "poly_tree_pipe.fit(X_train, y_train)\n",
    "poly_tree_pipe.score(X_train, y_train), poly_tree_pipe.score(X_test, y_test)\n",
    "## 1000 .54\n",
    "## 750 .54\n",
    "## 500 .6039"
   ]
  },
  {
   "cell_type": "code",
   "execution_count": null,
   "metadata": {},
   "outputs": [],
   "source": [
    "poly_logit_pipe.steps[0][1].set_params( degree = 4)  ## 4 \n",
    "poly_logit_pipe.steps[2][1].set_params( n_components = 400) ## 350\n",
    "poly_logit_pipe.fit(X, y)\n",
    "poly_logit_pipe.score(X, y)"
   ]
  },
  {
   "cell_type": "code",
   "execution_count": null,
   "metadata": {},
   "outputs": [],
   "source": [
    "expl_variances = poly_logit_pipe.steps[2][1].explained_variance_ratio_\n",
    "expl_variances.shape[0]\n"
   ]
  },
  {
   "cell_type": "code",
   "execution_count": null,
   "metadata": {
    "collapsed": true
   },
   "outputs": [],
   "source": [
    "poly_logit_pipe.fit(X, y)\n",
    "poly_logit_pipe.score(X, y)"
   ]
  },
  {
   "cell_type": "code",
   "execution_count": null,
   "metadata": {
    "collapsed": true
   },
   "outputs": [],
   "source": [
    "poly_logit_pipe_params = {\n",
    "    'poly__degree':[]\n",
    "}"
   ]
  },
  {
   "cell_type": "code",
   "execution_count": null,
   "metadata": {
    "collapsed": true
   },
   "outputs": [],
   "source": []
  },
  {
   "cell_type": "code",
   "execution_count": null,
   "metadata": {
    "collapsed": true
   },
   "outputs": [],
   "source": []
  }
 ],
 "metadata": {
  "kernelspec": {
   "display_name": "Python 3",
   "language": "python",
   "name": "python3"
  },
  "language_info": {
   "codemirror_mode": {
    "name": "ipython",
    "version": 3
   },
   "file_extension": ".py",
   "mimetype": "text/x-python",
   "name": "python",
   "nbconvert_exporter": "python",
   "pygments_lexer": "ipython3",
   "version": "3.6.2"
  }
 },
 "nbformat": 4,
 "nbformat_minor": 2
}
