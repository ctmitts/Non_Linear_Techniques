{
 "cells": [
  {
   "cell_type": "code",
   "execution_count": 2,
   "metadata": {
    "collapsed": true
   },
   "outputs": [],
   "source": [
    "import pandas as pd\n",
    "import numpy as np"
   ]
  },
  {
   "cell_type": "code",
   "execution_count": null,
   "metadata": {
    "collapsed": true
   },
   "outputs": [],
   "source": []
  },
  {
   "cell_type": "code",
   "execution_count": 29,
   "metadata": {},
   "outputs": [
    {
     "data": {
      "text/html": [
       "<div>\n",
       "<table border=\"1\" class=\"dataframe\">\n",
       "  <thead>\n",
       "    <tr style=\"text-align: right;\">\n",
       "      <th></th>\n",
       "      <th>baseline</th>\n",
       "      <th>poly</th>\n",
       "      <th>linear-kernel</th>\n",
       "      <th>poly-kernel</th>\n",
       "      <th>rbf-kernel</th>\n",
       "      <th>fourier-kernel</th>\n",
       "    </tr>\n",
       "  </thead>\n",
       "  <tbody>\n",
       "    <tr>\n",
       "      <th>Logit</th>\n",
       "      <td>0.790667</td>\n",
       "      <td>0.922667</td>\n",
       "      <td>0.798667</td>\n",
       "      <td>0.930667</td>\n",
       "      <td>0.958000</td>\n",
       "      <td>0.921333</td>\n",
       "    </tr>\n",
       "    <tr>\n",
       "      <th>LSVC</th>\n",
       "      <td>0.794000</td>\n",
       "      <td>0.923333</td>\n",
       "      <td>0.794000</td>\n",
       "      <td>0.931333</td>\n",
       "      <td>0.942000</td>\n",
       "      <td>0.919333</td>\n",
       "    </tr>\n",
       "    <tr>\n",
       "      <th>DTC</th>\n",
       "      <td>0.874667</td>\n",
       "      <td>0.933333</td>\n",
       "      <td>0.966667</td>\n",
       "      <td>0.960667</td>\n",
       "      <td>0.944667</td>\n",
       "      <td>0.897333</td>\n",
       "    </tr>\n",
       "    <tr>\n",
       "      <th>KNNC</th>\n",
       "      <td>0.919333</td>\n",
       "      <td>0.898667</td>\n",
       "      <td>0.913333</td>\n",
       "      <td>0.913333</td>\n",
       "      <td>0.917333</td>\n",
       "      <td>0.912000</td>\n",
       "    </tr>\n",
       "  </tbody>\n",
       "</table>\n",
       "</div>"
      ],
      "text/plain": [
       "       baseline      poly  linear-kernel  poly-kernel  rbf-kernel  \\\n",
       "Logit  0.790667  0.922667       0.798667     0.930667    0.958000   \n",
       "LSVC   0.794000  0.923333       0.794000     0.931333    0.942000   \n",
       "DTC    0.874667  0.933333       0.966667     0.960667    0.944667   \n",
       "KNNC   0.919333  0.898667       0.913333     0.913333    0.917333   \n",
       "\n",
       "       fourier-kernel  \n",
       "Logit        0.921333  \n",
       "LSVC         0.919333  \n",
       "DTC          0.897333  \n",
       "KNNC         0.912000  "
      ]
     },
     "execution_count": 29,
     "metadata": {},
     "output_type": "execute_result"
    }
   ],
   "source": [
    "train = [\n",
    "    {'baseline':base_logit_train, 'poly':logit_train, \n",
    "     'linear-kernel': ny_linear_logit_train, 'poly-kernel':ny_poly_logit_train,\n",
    "     'rbf-kernel':ny_rbf_logit_train, 'fourier-kernel':fourier_logit_train},  ## Logit \n",
    "    {'baseline':base_lsvc_train, 'poly':lsvc_train, \n",
    "     'linear-kernel': ny_linear_lsvc_train, 'poly-kernel':ny_poly_lsvc_train,\n",
    "     'rbf-kernel':ny_rbf_lsvc_train, 'fourier-kernel':fourier_lsvc_train}, ## LSVC\n",
    "    {'baseline':base_dtc_train, 'poly':dtc_train, \n",
    "     'linear-kernel': ny_linear_dtc_train, 'poly-kernel':ny_poly_dtc_train,\n",
    "     'rbf-kernel':ny_rbf_dtc_train, 'fourier-kernel':fourier_dtc_train}, ## DTC\n",
    "    {'baseline':base_knnc_train, 'poly':knnc_train, \n",
    "     'linear-kernel': ny_linear_knnc_train, 'poly-kernel':ny_poly_knnc_train,\n",
    "     'rbf-kernel':ny_rbf_knnc_train, 'fourier-kernel':fourier_knnc_train} ## KNNC\n",
    "]\n",
    "\n",
    "train_df = pd.DataFrame( train, index = ['Logit', 'LSVC', 'DTC', 'KNNC'])\n",
    "train_df[['baseline', 'poly', 'linear-kernel', 'poly-kernel', 'rbf-kernel', 'fourier-kernel']]"
   ]
  },
  {
   "cell_type": "code",
   "execution_count": 30,
   "metadata": {},
   "outputs": [
    {
     "data": {
      "text/html": [
       "<div>\n",
       "<table border=\"1\" class=\"dataframe\">\n",
       "  <thead>\n",
       "    <tr style=\"text-align: right;\">\n",
       "      <th></th>\n",
       "      <th>baseline</th>\n",
       "      <th>fourier-kernel</th>\n",
       "      <th>linear-kernel</th>\n",
       "      <th>poly</th>\n",
       "      <th>poly-kernel</th>\n",
       "      <th>rbf-kernel</th>\n",
       "    </tr>\n",
       "  </thead>\n",
       "  <tbody>\n",
       "    <tr>\n",
       "      <th>KNNC</th>\n",
       "      <td>0.919333</td>\n",
       "      <td>0.912000</td>\n",
       "      <td>0.913333</td>\n",
       "      <td>0.898667</td>\n",
       "      <td>0.913333</td>\n",
       "      <td>0.917333</td>\n",
       "    </tr>\n",
       "    <tr>\n",
       "      <th>DTC</th>\n",
       "      <td>0.874667</td>\n",
       "      <td>0.897333</td>\n",
       "      <td>0.966667</td>\n",
       "      <td>0.933333</td>\n",
       "      <td>0.960667</td>\n",
       "      <td>0.944667</td>\n",
       "    </tr>\n",
       "    <tr>\n",
       "      <th>LSVC</th>\n",
       "      <td>0.794000</td>\n",
       "      <td>0.919333</td>\n",
       "      <td>0.794000</td>\n",
       "      <td>0.923333</td>\n",
       "      <td>0.931333</td>\n",
       "      <td>0.942000</td>\n",
       "    </tr>\n",
       "    <tr>\n",
       "      <th>Logit</th>\n",
       "      <td>0.790667</td>\n",
       "      <td>0.921333</td>\n",
       "      <td>0.798667</td>\n",
       "      <td>0.922667</td>\n",
       "      <td>0.930667</td>\n",
       "      <td>0.958000</td>\n",
       "    </tr>\n",
       "  </tbody>\n",
       "</table>\n",
       "</div>"
      ],
      "text/plain": [
       "       baseline  fourier-kernel  linear-kernel      poly  poly-kernel  \\\n",
       "KNNC   0.919333        0.912000       0.913333  0.898667     0.913333   \n",
       "DTC    0.874667        0.897333       0.966667  0.933333     0.960667   \n",
       "LSVC   0.794000        0.919333       0.794000  0.923333     0.931333   \n",
       "Logit  0.790667        0.921333       0.798667  0.922667     0.930667   \n",
       "\n",
       "       rbf-kernel  \n",
       "KNNC     0.917333  \n",
       "DTC      0.944667  \n",
       "LSVC     0.942000  \n",
       "Logit    0.958000  "
      ]
     },
     "execution_count": 30,
     "metadata": {},
     "output_type": "execute_result"
    }
   ],
   "source": [
    "train_df.sort_values(by = ['baseline','fourier-kernel','linear-kernel','poly', 'poly-kernel','rbf-kernel'], ascending = False)"
   ]
  },
  {
   "cell_type": "code",
   "execution_count": 22,
   "metadata": {},
   "outputs": [],
   "source": [
    "import matplotlib.pyplot as plt\n",
    "%matplotlib inline"
   ]
  },
  {
   "cell_type": "code",
   "execution_count": 24,
   "metadata": {},
   "outputs": [
    {
     "data": {
      "text/plain": [
       "<matplotlib.axes._subplots.AxesSubplot at 0x7f2e4e999c88>"
      ]
     },
     "execution_count": 24,
     "metadata": {},
     "output_type": "execute_result"
    },
    {
     "data": {
      "image/png": "[encoded data removed]",
      "text/plain": [
       "<matplotlib.figure.Figure at 0x7f2e4e994048>"
      ]
     },
     "metadata": {},
     "output_type": "display_data"
    }
   ],
   "source": [
    "train_df.drop( ['fourier-kernel','linear-kernel', 'poly-kernel','rbf-kernel'], axis = 1).sort_values( by=['baseline', 'poly']).plot.bar()\n",
    "\n",
    "# groupby(by = ['baseline', 'poly'])"
   ]
  },
  {
   "cell_type": "code",
   "execution_count": 26,
   "metadata": {},
   "outputs": [
    {
     "data": {
      "text/plain": [
       "<matplotlib.axes._subplots.AxesSubplot at 0x7f2e5369fe48>"
      ]
     },
     "execution_count": 26,
     "metadata": {},
     "output_type": "execute_result"
    },
    {
     "data": {
      "image/png": "[encoded data removed]",
      "text/plain": [
       "<matplotlib.figure.Figure at 0x7f2e5145f940>"
      ]
     },
     "metadata": {},
     "output_type": "display_data"
    }
   ],
   "source": [
    "train_df.drop( ['fourier-kernel','poly', 'poly-kernel','rbf-kernel'], axis = 1).sort_values( by=['baseline', 'linear-kernel']).plot.bar()"
   ]
  },
  {
   "cell_type": "code",
   "execution_count": 27,
   "metadata": {},
   "outputs": [
    {
     "data": {
      "text/plain": [
       "<matplotlib.axes._subplots.AxesSubplot at 0x7f2e4e9237b8>"
      ]
     },
     "execution_count": 27,
     "metadata": {},
     "output_type": "execute_result"
    },
    {
     "data": {
      "image/png": "[encoded data removed]",
      "text/plain": [
       "<matplotlib.figure.Figure at 0x7f2e542559e8>"
      ]
     },
     "metadata": {},
     "output_type": "display_data"
    }
   ],
   "source": [
    "train_df.drop( ['fourier-kernel','poly', 'linear-kernel','rbf-kernel'], axis = 1).sort_values( by=['baseline', 'poly-kernel']).plot.bar()\n",
    "\n"
   ]
  },
  {
   "cell_type": "code",
   "execution_count": 28,
   "metadata": {},
   "outputs": [
    {
     "data": {
      "text/plain": [
       "<matplotlib.axes._subplots.AxesSubplot at 0x7f2e4e8ad710>"
      ]
     },
     "execution_count": 28,
     "metadata": {},
     "output_type": "execute_result"
    },
    {
     "data": {
      "image/png": "[encoded data removed]",
      "text/plain": [
       "<matplotlib.figure.Figure at 0x7f2e4e84cd30>"
      ]
     },
     "metadata": {},
     "output_type": "display_data"
    }
   ],
   "source": [
    "train_df.drop( ['fourier-kernel','poly', 'linear-kernel','poly-kernel'], axis = 1).sort_values( by=['baseline', 'rbf-kernel']).plot.bar()"
   ]
  },
  {
   "cell_type": "code",
   "execution_count": null,
   "metadata": {
    "collapsed": true
   },
   "outputs": [],
   "source": [
    "train_df.sort_values(by = ['baseline','fourier-kernel','linear-kernel','poly', 'poly-kernel','rbf-kernel'], ascending = False)"
   ]
  },
  {
   "cell_type": "code",
   "execution_count": 31,
   "metadata": {},
   "outputs": [
    {
     "data": {
      "text/html": [
       "<div>\n",
       "<table border=\"1\" class=\"dataframe\">\n",
       "  <thead>\n",
       "    <tr style=\"text-align: right;\">\n",
       "      <th></th>\n",
       "      <th>baseline</th>\n",
       "      <th>poly</th>\n",
       "      <th>linear-kernel</th>\n",
       "      <th>poly-kernel</th>\n",
       "      <th>rbf-kernel</th>\n",
       "      <th>fourier-kernel</th>\n",
       "    </tr>\n",
       "  </thead>\n",
       "  <tbody>\n",
       "    <tr>\n",
       "      <th>Logit</th>\n",
       "      <td>0.776</td>\n",
       "      <td>0.870</td>\n",
       "      <td>0.780</td>\n",
       "      <td>0.890</td>\n",
       "      <td>0.898</td>\n",
       "      <td>0.902</td>\n",
       "    </tr>\n",
       "    <tr>\n",
       "      <th>LSVC</th>\n",
       "      <td>0.776</td>\n",
       "      <td>0.866</td>\n",
       "      <td>0.782</td>\n",
       "      <td>0.894</td>\n",
       "      <td>0.900</td>\n",
       "      <td>0.898</td>\n",
       "    </tr>\n",
       "    <tr>\n",
       "      <th>DTC</th>\n",
       "      <td>0.838</td>\n",
       "      <td>0.862</td>\n",
       "      <td>0.858</td>\n",
       "      <td>0.848</td>\n",
       "      <td>0.844</td>\n",
       "      <td>0.800</td>\n",
       "    </tr>\n",
       "    <tr>\n",
       "      <th>KNNC</th>\n",
       "      <td>0.866</td>\n",
       "      <td>0.810</td>\n",
       "      <td>0.860</td>\n",
       "      <td>0.856</td>\n",
       "      <td>0.872</td>\n",
       "      <td>0.868</td>\n",
       "    </tr>\n",
       "  </tbody>\n",
       "</table>\n",
       "</div>"
      ],
      "text/plain": [
       "       baseline   poly  linear-kernel  poly-kernel  rbf-kernel  fourier-kernel\n",
       "Logit     0.776  0.870          0.780        0.890       0.898           0.902\n",
       "LSVC      0.776  0.866          0.782        0.894       0.900           0.898\n",
       "DTC       0.838  0.862          0.858        0.848       0.844           0.800\n",
       "KNNC      0.866  0.810          0.860        0.856       0.872           0.868"
      ]
     },
     "execution_count": 31,
     "metadata": {},
     "output_type": "execute_result"
    }
   ],
   "source": [
    "test = [\n",
    "    {'baseline':base_logit_test, 'poly':logit_test, \n",
    "     'linear-kernel': ny_linear_logit_test, 'poly-kernel':ny_poly_logit_test,\n",
    "     'rbf-kernel':ny_rbf_logit_test, 'fourier-kernel':fourier_logit_test},  ## Logit \n",
    "    {'baseline':base_lsvc_test, 'poly':lsvc_test, \n",
    "     'linear-kernel': ny_linear_lsvc_test, 'poly-kernel':ny_poly_lsvc_test,\n",
    "     'rbf-kernel':ny_rbf_lsvc_test, 'fourier-kernel':fourier_lsvc_test}, ## LSVC\n",
    "    {'baseline':base_dtc_test, 'poly':dtc_test, \n",
    "     'linear-kernel': ny_linear_dtc_test, 'poly-kernel':ny_poly_dtc_test,\n",
    "     'rbf-kernel':ny_rbf_dtc_test, 'fourier-kernel':fourier_dtc_test}, ## DTC\n",
    "    {'baseline':base_knnc_test, 'poly':knnc_test, \n",
    "     'linear-kernel': ny_linear_knnc_test, 'poly-kernel':ny_poly_knnc_test,\n",
    "     'rbf-kernel':ny_rbf_knnc_test, 'fourier-kernel':fourier_knnc_test} ## KNNC\n",
    "]\n",
    "\n",
    "test_df = pd.DataFrame( test, index = ['Logit', 'LSVC', 'DTC', 'KNNC'])\n",
    "test_df[['baseline', 'poly', 'linear-kernel', 'poly-kernel', 'rbf-kernel', 'fourier-kernel']]"
   ]
  },
  {
   "cell_type": "code",
   "execution_count": null,
   "metadata": {
    "collapsed": true
   },
   "outputs": [],
   "source": []
  },
  {
   "cell_type": "code",
   "execution_count": null,
   "metadata": {
    "collapsed": true
   },
   "outputs": [],
   "source": []
  },
  {
   "cell_type": "code",
   "execution_count": 4,
   "metadata": {
    "collapsed": true
   },
   "outputs": [],
   "source": [
    "## Baseline No PCA\n",
    "base_logit_train, base_logit_test = (0.79066666666666663, 0.77600000000000002)\n",
    "base_lsvc_train, base_lsvc_test = (0.79400000000000004, 0.77600000000000002)\n",
    "base_dtc_train, base_dtc_test =(0.8746666666666667, 0.83799999999999997)\n",
    "base_knnc_train, base_knnc_test =(0.91933333333333334, 0.86599999999999999)"
   ]
  },
  {
   "cell_type": "code",
   "execution_count": 5,
   "metadata": {
    "collapsed": true
   },
   "outputs": [],
   "source": [
    "## Poly No PCA\n",
    "logit_train, logit_test = (0.92266666666666663, 0.87)\n",
    "lsvc_train, lsvc_test = (0.92333333333333334, 0.86599999999999999)\n",
    "dtc_train, dtc_test = (0.93333333333333335, 0.86199999999999999)\n",
    "knnc_train, knnc_test = (0.89866666666666661, 0.81000000000000005)\n",
    "\n",
    "#{'clf__C': 0.01, 'poly__degree': 2}\n",
    "#{'clf__C': 0.001, 'poly__degree': 2}\n",
    "#{'clf__max_depth': 5, 'poly__degree': 2}\n",
    "#{'clf__n_neighbors': 9, 'poly__degree': 1}"
   ]
  },
  {
   "cell_type": "code",
   "execution_count": 6,
   "metadata": {
    "collapsed": true
   },
   "outputs": [],
   "source": [
    "## Nystroem: Linear Kernel, No PCA\n",
    "\n",
    "ny_linear_logit_train, ny_linear_logit_test =(0.79866666666666664, 0.78000000000000003)\n",
    "ny_linear_lsvc_train, ny_linear_lsvc_test = (0.79400000000000004, 0.78200000000000003)\n",
    "ny_linear_dtc_train, ny_linear_dtc_test = (0.96666666666666667, 0.85799999999999998)\n",
    "ny_linear_knnc_train, ny_linear_knnc_test =(0.91333333333333333, 0.85999999999999999)\n",
    "\n",
    "#{'clf__C': 0.001, 'rbf__gamma': 0.001}\n",
    "#{'clf__C': 0.001, 'rbf__gamma': 0.001}\n",
    "#{'clf__max_depth': 9, 'rbf__gamma': 0.001}\n",
    "#{'clf__n_neighbors': 9, 'rbf__gamma': 0.001}"
   ]
  },
  {
   "cell_type": "code",
   "execution_count": 7,
   "metadata": {
    "collapsed": true
   },
   "outputs": [],
   "source": [
    "## Nystroem: Poly Kernel, No PCA\n",
    "\n",
    "ny_poly_logit_train, ny_poly_logit_test =(0.93066666666666664, 0.89000000000000001)\n",
    "ny_poly_lsvc_train, ny_poly_lsvc_test =(0.93133333333333335, 0.89400000000000002)\n",
    "ny_poly_dtc_train, ny_poly_dtc_test =(0.96066666666666667, 0.84799999999999998)\n",
    "ny_poly_knnc_train, ny_poly_knnc_test =(0.91333333333333333, 0.85599999999999998)\n",
    "\n",
    "#{'clf__C': 0.01, 'rbf__degree': 2, 'rbf__gamma': 0.10000000000000001}\n",
    "#{'clf__C': 0.001, 'rbf__degree': 2, 'rbf__gamma': 0.10000000000000001}\n",
    "#{'clf__max_depth': 7, 'rbf__degree': 1, 'rbf__gamma': 0.10000000000000001}\n",
    "#{'clf__n_neighbors': 9, 'rbf__degree': 1, 'rbf__gamma': 10.0}"
   ]
  },
  {
   "cell_type": "code",
   "execution_count": 8,
   "metadata": {
    "collapsed": true
   },
   "outputs": [],
   "source": [
    "## Nystroem: RBF Kernel, No PCA\n",
    "\n",
    "ny_rbf_logit_train, ny_rbf_logit_test =(0.95799999999999996, 0.89800000000000002)\n",
    "ny_rbf_lsvc_train, ny_rbf_lsvc_test = (0.94199999999999995, 0.90000000000000002)\n",
    "ny_rbf_dtc_train, ny_rbf_dtc_test = (0.94466666666666665, 0.84399999999999997)\n",
    "ny_rbf_knnc_train, ny_rbf_knnc_test = (0.91733333333333333, 0.872)\n",
    "\n",
    "#{'clf__C': 0.10000000000000001, 'rbf__degree': 2, 'rbf__gamma': 0.01}\n",
    "#{'clf__C': 0.001, 'rbf__degree': 2, 'rbf__gamma': 0.10000000000000001}\n",
    "#{'clf__max_depth': 7, 'rbf__degree': 1, 'rbf__gamma': 0.001}\n",
    "#{'clf__n_neighbors': 9, 'rbf__degree': 1, 'rbf__gamma': 0.01}"
   ]
  },
  {
   "cell_type": "code",
   "execution_count": 9,
   "metadata": {
    "collapsed": true
   },
   "outputs": [],
   "source": [
    "## RBFsampler:  Fourier kernels\n",
    "\n",
    "fourier_logit_train, fourier_logit_test = (0.92133333333333334, 0.90200000000000002)\n",
    "fourier_lsvc_train, fourier_lsvc_test = (0.91933333333333334, 0.89800000000000002)\n",
    "fourier_dtc_train, fourier_dtc_test = (0.89733333333333332, 0.80000000000000004)\n",
    "fourier_knnc_train, fourier_knnc_test = (0.91200000000000003, 0.86799999999999999)\n",
    "\n",
    "#{'clf__C': 0.01, 'fourier__gamma': 0.01}\n",
    "#{'clf__C': 0.001, 'fourier__gamma': 0.01}\n",
    "#{'clf__max_depth': 5, 'fourier__gamma': 0.001}\n",
    "#{'clf__n_neighbors': 9, 'fourier__gamma': 0.01}"
   ]
  },
  {
   "cell_type": "code",
   "execution_count": null,
   "metadata": {
    "collapsed": true
   },
   "outputs": [],
   "source": []
  },
  {
   "cell_type": "code",
   "execution_count": null,
   "metadata": {
    "collapsed": true
   },
   "outputs": [],
   "source": []
  },
  {
   "cell_type": "code",
   "execution_count": null,
   "metadata": {
    "collapsed": true
   },
   "outputs": [],
   "source": []
  },
  {
   "cell_type": "code",
   "execution_count": null,
   "metadata": {
    "collapsed": true
   },
   "outputs": [],
   "source": []
  }
 ],
 "metadata": {
  "kernelspec": {
   "display_name": "Python 3",
   "language": "python",
   "name": "python3"
  },
  "language_info": {
   "codemirror_mode": {
    "name": "ipython",
    "version": 3
   },
   "file_extension": ".py",
   "mimetype": "text/x-python",
   "name": "python",
   "nbconvert_exporter": "python",
   "pygments_lexer": "ipython3",
   "version": "3.6.2"
  }
 },
 "nbformat": 4,
 "nbformat_minor": 2
}
